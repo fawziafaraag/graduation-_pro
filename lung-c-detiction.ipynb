{
 "cells": [
  {
   "cell_type": "markdown",
   "id": "49ccefb9",
   "metadata": {
    "papermill": {
     "duration": 0.057306,
     "end_time": "2022-01-29T06:57:10.661723",
     "exception": false,
     "start_time": "2022-01-29T06:57:10.604417",
     "status": "completed"
    },
    "tags": []
   },
   "source": [
    "## Importing Libraries"
   ]
  },
  {
   "cell_type": "code",
   "execution_count": 1,
   "id": "52eb4191",
   "metadata": {
    "execution": {
     "iopub.execute_input": "2022-01-29T06:57:10.766142Z",
     "iopub.status.busy": "2022-01-29T06:57:10.765447Z",
     "iopub.status.idle": "2022-01-29T06:57:14.851071Z",
     "shell.execute_reply": "2022-01-29T06:57:14.850246Z",
     "shell.execute_reply.started": "2022-01-29T05:51:45.560729Z"
    },
    "papermill": {
     "duration": 4.132404,
     "end_time": "2022-01-29T06:57:14.851244",
     "exception": false,
     "start_time": "2022-01-29T06:57:10.718840",
     "status": "completed"
    },
    "tags": []
   },
   "outputs": [],
   "source": [
    "import os\n",
    "import cv2\n",
    "import pandas as pd\n",
    "import numpy as np\n",
    "import tensorflow as tf\n",
    "import matplotlib.pyplot as plt\n",
    "\n",
    "import warnings\n",
    "warnings.filterwarnings(\"ignore\")"
   ]
  },
  {
   "cell_type": "code",
   "execution_count": 2,
   "id": "11aa3d8b",
   "metadata": {
    "execution": {
     "iopub.execute_input": "2022-01-29T06:57:14.928134Z",
     "iopub.status.busy": "2022-01-29T06:57:14.927210Z",
     "iopub.status.idle": "2022-01-29T06:57:14.929361Z",
     "shell.execute_reply": "2022-01-29T06:57:14.929777Z",
     "shell.execute_reply.started": "2022-01-29T05:51:52.055771Z"
    },
    "papermill": {
     "duration": 0.042036,
     "end_time": "2022-01-29T06:57:14.929909",
     "exception": false,
     "start_time": "2022-01-29T06:57:14.887873",
     "status": "completed"
    },
    "tags": []
   },
   "outputs": [],
   "source": [
    "#path to dataset\n",
    "dir_path = '/content/drive/MyDrive/CTLungCancer/Data'\n",
    "train_path = '/content/drive/MyDrive/CTLungCancer/Data/train'\n",
    "test_path = '/content/drive/MyDrive/CTLungCancer/Data/test'\n",
    "val_path = '/content/drive/MyDrive/CTLungCancer/Data/valid'"
   ]
  },
  {
   "cell_type": "code",
   "execution_count": 3,
   "id": "1497f555",
   "metadata": {
    "execution": {
     "iopub.execute_input": "2022-01-29T06:57:15.008713Z",
     "iopub.status.busy": "2022-01-29T06:57:15.008086Z",
     "iopub.status.idle": "2022-01-29T06:57:15.231466Z",
     "shell.execute_reply": "2022-01-29T06:57:15.232080Z",
     "shell.execute_reply.started": "2022-01-29T05:51:59.436566Z"
    },
    "papermill": {
     "duration": 0.264445,
     "end_time": "2022-01-29T06:57:15.232228",
     "exception": false,
     "start_time": "2022-01-29T06:57:14.967783",
     "status": "completed"
    },
    "tags": []
   },
   "outputs": [
    {
     "name": "stdout",
     "output_type": "stream",
     "text": [
      "{'squamous.cell.carcinoma_left.hilum_T1_N2_M0_IIIa': 155, 'normal': 148, 'large.cell.carcinoma_left.hilum_T2_N2_M0_IIIa': 115, 'adenocarcinoma_left.lower.lobe_T2_N0_M0_Ib': 195} \n",
      "\n",
      " {'squamous.cell.carcinoma_left.hilum_T1_N2_M0_IIIa': 15, 'normal': 13, 'large.cell.carcinoma_left.hilum_T2_N2_M0_IIIa': 21, 'adenocarcinoma_left.lower.lobe_T2_N0_M0_Ib': 23} \n",
      "\n",
      " {'squamous.cell.carcinoma': 90, 'normal': 54, 'adenocarcinoma': 120, 'large.cell.carcinoma': 51}\n"
     ]
    }
   ],
   "source": [
    "def GetDatasetSize(path):\n",
    "    num_of_image = {}\n",
    "    for folder in os.listdir(path):\n",
    "        # Counting the Number of Files in the Folder\n",
    "        num_of_image[folder] = len(os.listdir(os.path.join(path, folder)));\n",
    "    return num_of_image;\n",
    "    \n",
    "train_set = GetDatasetSize(train_path)\n",
    "val_set = GetDatasetSize(val_path)\n",
    "test_set = GetDatasetSize(test_path)\n",
    "print(train_set,\"\\n\\n\",val_set,\"\\n\\n\",test_set)"
   ]
  },
  {
   "cell_type": "code",
   "execution_count": 4,
   "id": "f8fafba3",
   "metadata": {
    "execution": {
     "iopub.execute_input": "2022-01-29T06:57:15.316469Z",
     "iopub.status.busy": "2022-01-29T06:57:15.315786Z",
     "iopub.status.idle": "2022-01-29T06:57:15.773460Z",
     "shell.execute_reply": "2022-01-29T06:57:15.773891Z",
     "shell.execute_reply.started": "2022-01-29T05:52:04.667080Z"
    },
    "papermill": {
     "duration": 0.504319,
     "end_time": "2022-01-29T06:57:15.774038",
     "exception": false,
     "start_time": "2022-01-29T06:57:15.269719",
     "status": "completed"
    },
    "tags": []
   },
   "outputs": [
    {
     "data": {
      "image/png": "[encoded data removed]",
      "text/plain": [
       "<Figure size 432x288 with 1 Axes>"
      ]
     },
     "metadata": {
      "needs_background": "light"
     },
     "output_type": "display_data"
    }
   ],
   "source": [
    "labels = ['squamous.cell.carcinoma', 'normal', 'adenocarcinoma', 'large.cell.carcinoma']\n",
    "train_list = list(train_set.values())\n",
    "val_list = list(val_set.values())\n",
    "test_list = list(test_set.values())\n",
    "\n",
    "x = np.arange(len(labels))  # the label locations\n",
    "width = 0.25  # the width of the bars\n",
    "\n",
    "fig, ax = plt.subplots()\n",
    "rects1 = ax.bar(x - width, train_list, width, label='Train')\n",
    "rects2 = ax.bar(x, val_list, width, label='Val')\n",
    "rects3 = ax.bar(x + width, test_list, width, label='Test')\n",
    "\n",
    "# Add some text for labels, title and custom x-axis tick labels, etc.\n",
    "ax.set_ylabel('Images Count')\n",
    "ax.set_title('Dataset')\n",
    "ax.set_xticks(x, labels)\n",
    "plt.xticks(rotation=15)\n",
    "ax.legend()\n",
    "\n",
    "ax.bar_label(rects1)\n",
    "ax.bar_label(rects2)\n",
    "ax.bar_label(rects3)\n",
    "\n",
    "fig.tight_layout()\n",
    "\n",
    "plt.show()"
   ]
  },
  {
   "cell_type": "markdown",
   "id": "00269aad",
   "metadata": {
    "papermill": {
     "duration": 0.036944,
     "end_time": "2022-01-29T06:57:15.848053",
     "exception": false,
     "start_time": "2022-01-29T06:57:15.811109",
     "status": "completed"
    },
    "tags": []
   },
   "source": [
    "## Importing Keras for Image Classification"
   ]
  },
  {
   "cell_type": "code",
   "execution_count": 5,
   "id": "b5dff0f4",
   "metadata": {
    "execution": {
     "iopub.execute_input": "2022-01-29T06:57:15.928389Z",
     "iopub.status.busy": "2022-01-29T06:57:15.927694Z",
     "iopub.status.idle": "2022-01-29T06:57:16.747312Z",
     "shell.execute_reply": "2022-01-29T06:57:16.746773Z",
     "shell.execute_reply.started": "2022-01-29T05:52:10.694658Z"
    },
    "papermill": {
     "duration": 0.862967,
     "end_time": "2022-01-29T06:57:16.747438",
     "exception": false,
     "start_time": "2022-01-29T06:57:15.884471",
     "status": "completed"
    },
    "tags": []
   },
   "outputs": [],
   "source": [
    "import tensorflow.keras\n",
    "from tensorflow.keras import layers\n",
    "from tensorflow.keras import Model \n",
    "from tensorflow.keras.models import Sequential\n",
    "from tensorflow.keras.preprocessing import image\n",
    "from tensorflow.keras.callbacks import ModelCheckpoint, EarlyStopping\n",
    "from tensorflow.keras.preprocessing.image import ImageDataGenerator\n",
    "from tensorflow.keras.applications.vgg16 import VGG16, preprocess_input\n",
    "from tensorflow.keras.models import load_model, Model\n",
    "from tensorflow.keras.layers import Dense,Conv2D, Flatten, MaxPool2D, Dropout"
   ]
  },
  {
   "cell_type": "code",
   "execution_count": 6,
   "id": "8399f78d",
   "metadata": {
    "execution": {
     "iopub.execute_input": "2022-01-29T06:57:16.827221Z",
     "iopub.status.busy": "2022-01-29T06:57:16.826659Z",
     "iopub.status.idle": "2022-01-29T06:57:16.933649Z",
     "shell.execute_reply": "2022-01-29T06:57:16.933231Z",
     "shell.execute_reply.started": "2022-01-29T05:52:13.422909Z"
    },
    "papermill": {
     "duration": 0.148537,
     "end_time": "2022-01-29T06:57:16.933775",
     "exception": false,
     "start_time": "2022-01-29T06:57:16.785238",
     "status": "completed"
    },
    "tags": []
   },
   "outputs": [
    {
     "name": "stdout",
     "output_type": "stream",
     "text": [
      "Found 613 images belonging to 4 classes.\n"
     ]
    }
   ],
   "source": [
    "train_datagen = ImageDataGenerator(rescale = 1.0/255.0,\n",
    "                                  horizontal_flip = True,\n",
    "                                  fill_mode = 'nearest',\n",
    "                                  zoom_range=0.2,\n",
    "                                  shear_range = 0.2,\n",
    "                                  width_shift_range=0.2,\n",
    "                                  height_shift_range=0.2,\n",
    "                                  rotation_range=0.4)\n",
    "\n",
    "train_data = train_datagen.flow_from_directory(train_path,\n",
    "                                                   batch_size = 5,\n",
    "                                                   target_size = (350,350),\n",
    "                                                   class_mode = 'categorical')"
   ]
  },
  {
   "cell_type": "code",
   "execution_count": 7,
   "id": "ecf4f45c",
   "metadata": {
    "execution": {
     "iopub.execute_input": "2022-01-29T06:57:17.015172Z",
     "iopub.status.busy": "2022-01-29T06:57:17.014482Z",
     "iopub.status.idle": "2022-01-29T06:57:17.017182Z",
     "shell.execute_reply": "2022-01-29T06:57:17.017606Z",
     "shell.execute_reply.started": "2022-01-29T05:52:18.310600Z"
    },
    "papermill": {
     "duration": 0.045259,
     "end_time": "2022-01-29T06:57:17.017729",
     "exception": false,
     "start_time": "2022-01-29T06:57:16.972470",
     "status": "completed"
    },
    "tags": []
   },
   "outputs": [
    {
     "data": {
      "text/plain": [
       "{'adenocarcinoma_left.lower.lobe_T2_N0_M0_Ib': 0,\n",
       " 'large.cell.carcinoma_left.hilum_T2_N2_M0_IIIa': 1,\n",
       " 'normal': 2,\n",
       " 'squamous.cell.carcinoma_left.hilum_T1_N2_M0_IIIa': 3}"
      ]
     },
     "execution_count": 7,
     "metadata": {},
     "output_type": "execute_result"
    }
   ],
   "source": [
    "train_data.class_indices"
   ]
  },
  {
   "cell_type": "code",
   "execution_count": 8,
   "id": "decfd600",
   "metadata": {
    "execution": {
     "iopub.execute_input": "2022-01-29T06:57:17.097787Z",
     "iopub.status.busy": "2022-01-29T06:57:17.096982Z",
     "iopub.status.idle": "2022-01-29T06:57:17.201797Z",
     "shell.execute_reply": "2022-01-29T06:57:17.202295Z",
     "shell.execute_reply.started": "2022-01-29T05:52:20.871781Z"
    },
    "papermill": {
     "duration": 0.147233,
     "end_time": "2022-01-29T06:57:17.202435",
     "exception": false,
     "start_time": "2022-01-29T06:57:17.055202",
     "status": "completed"
    },
    "tags": []
   },
   "outputs": [
    {
     "name": "stdout",
     "output_type": "stream",
     "text": [
      "Found 72 images belonging to 4 classes.\n"
     ]
    }
   ],
   "source": [
    "val_datagen = ImageDataGenerator(rescale = 1.0/255.0)\n",
    "val_data = val_datagen.flow_from_directory(val_path,\n",
    "                                                   batch_size = 5,\n",
    "                                                   target_size = (350,350),\n",
    "                                                   class_mode = 'categorical')"
   ]
  },
  {
   "cell_type": "code",
   "execution_count": 9,
   "id": "57ec3da1",
   "metadata": {
    "execution": {
     "iopub.execute_input": "2022-01-29T06:57:17.285638Z",
     "iopub.status.busy": "2022-01-29T06:57:17.285002Z",
     "iopub.status.idle": "2022-01-29T06:57:17.287708Z",
     "shell.execute_reply": "2022-01-29T06:57:17.288185Z",
     "shell.execute_reply.started": "2022-01-29T05:52:23.325418Z"
    },
    "papermill": {
     "duration": 0.045578,
     "end_time": "2022-01-29T06:57:17.288313",
     "exception": false,
     "start_time": "2022-01-29T06:57:17.242735",
     "status": "completed"
    },
    "tags": []
   },
   "outputs": [
    {
     "data": {
      "text/plain": [
       "{'adenocarcinoma_left.lower.lobe_T2_N0_M0_Ib': 0,\n",
       " 'large.cell.carcinoma_left.hilum_T2_N2_M0_IIIa': 1,\n",
       " 'normal': 2,\n",
       " 'squamous.cell.carcinoma_left.hilum_T1_N2_M0_IIIa': 3}"
      ]
     },
     "execution_count": 9,
     "metadata": {},
     "output_type": "execute_result"
    }
   ],
   "source": [
    "val_data.class_indices"
   ]
  },
  {
   "cell_type": "code",
   "execution_count": 10,
   "id": "461d92a6",
   "metadata": {
    "execution": {
     "iopub.execute_input": "2022-01-29T06:57:17.369786Z",
     "iopub.status.busy": "2022-01-29T06:57:17.369095Z",
     "iopub.status.idle": "2022-01-29T06:57:17.474187Z",
     "shell.execute_reply": "2022-01-29T06:57:17.474726Z",
     "shell.execute_reply.started": "2022-01-29T05:52:29.164509Z"
    },
    "papermill": {
     "duration": 0.148512,
     "end_time": "2022-01-29T06:57:17.474906",
     "exception": false,
     "start_time": "2022-01-29T06:57:17.326394",
     "status": "completed"
    },
    "tags": []
   },
   "outputs": [
    {
     "name": "stdout",
     "output_type": "stream",
     "text": [
      "Found 315 images belonging to 4 classes.\n"
     ]
    }
   ],
   "source": [
    "test_datagen = ImageDataGenerator(rescale = 1.0/255.0)\n",
    "test_data = test_datagen.flow_from_directory(test_path,\n",
    "                                                   batch_size = 5,\n",
    "                                                   target_size = (350,350),\n",
    "                                                   class_mode = 'categorical')"
   ]
  },
  {
   "cell_type": "code",
   "execution_count": 11,
   "id": "588c320f",
   "metadata": {
    "execution": {
     "iopub.execute_input": "2022-01-29T06:57:17.556515Z",
     "iopub.status.busy": "2022-01-29T06:57:17.555899Z",
     "iopub.status.idle": "2022-01-29T06:57:17.558508Z",
     "shell.execute_reply": "2022-01-29T06:57:17.558951Z",
     "shell.execute_reply.started": "2022-01-29T05:52:31.322099Z"
    },
    "papermill": {
     "duration": 0.045187,
     "end_time": "2022-01-29T06:57:17.559065",
     "exception": false,
     "start_time": "2022-01-29T06:57:17.513878",
     "status": "completed"
    },
    "tags": []
   },
   "outputs": [
    {
     "data": {
      "text/plain": [
       "{'adenocarcinoma': 0,\n",
       " 'large.cell.carcinoma': 1,\n",
       " 'normal': 2,\n",
       " 'squamous.cell.carcinoma': 3}"
      ]
     },
     "execution_count": 11,
     "metadata": {},
     "output_type": "execute_result"
    }
   ],
   "source": [
    "test_data.class_indices"
   ]
  },
  {
   "cell_type": "markdown",
   "id": "9c9e12d9",
   "metadata": {
    "papermill": {
     "duration": 0.037973,
     "end_time": "2022-01-29T06:57:17.635587",
     "exception": false,
     "start_time": "2022-01-29T06:57:17.597614",
     "status": "completed"
    },
    "tags": []
   },
   "source": [
    "## CNN Model"
   ]
  },
  {
   "cell_type": "code",
   "execution_count": 12,
   "id": "17180cb2",
   "metadata": {
    "execution": {
     "iopub.execute_input": "2022-01-29T06:57:17.720627Z",
     "iopub.status.busy": "2022-01-29T06:57:17.720099Z",
     "iopub.status.idle": "2022-01-29T06:57:20.132222Z",
     "shell.execute_reply": "2022-01-29T06:57:20.131594Z",
     "shell.execute_reply.started": "2022-01-29T05:52:36.556061Z"
    },
    "papermill": {
     "duration": 2.458589,
     "end_time": "2022-01-29T06:57:20.132386",
     "exception": false,
     "start_time": "2022-01-29T06:57:17.673797",
     "status": "completed"
    },
    "tags": []
   },
   "outputs": [
    {
     "name": "stdout",
     "output_type": "stream",
     "text": [
      "Model: \"sequential\"\n",
      "_________________________________________________________________\n",
      "Layer (type)                 Output Shape              Param #   \n",
      "=================================================================\n",
      "conv2d (Conv2D)              (None, 348, 348, 32)      896       \n",
      "_________________________________________________________________\n",
      "conv2d_1 (Conv2D)            (None, 346, 346, 32)      9248      \n",
      "_________________________________________________________________\n",
      "max_pooling2d (MaxPooling2D) (None, 173, 173, 32)      0         \n",
      "_________________________________________________________________\n",
      "conv2d_2 (Conv2D)            (None, 171, 171, 64)      18496     \n",
      "_________________________________________________________________\n",
      "max_pooling2d_1 (MaxPooling2 (None, 85, 85, 64)        0         \n",
      "_________________________________________________________________\n",
      "conv2d_3 (Conv2D)            (None, 83, 83, 128)       73856     \n",
      "_________________________________________________________________\n",
      "max_pooling2d_2 (MaxPooling2 (None, 41, 41, 128)       0         \n",
      "_________________________________________________________________\n",
      "dropout (Dropout)            (None, 41, 41, 128)       0         \n",
      "_________________________________________________________________\n",
      "flatten (Flatten)            (None, 215168)            0         \n",
      "_________________________________________________________________\n",
      "dense (Dense)                (None, 64)                13770816  \n",
      "_________________________________________________________________\n",
      "dropout_1 (Dropout)          (None, 64)                0         \n",
      "_________________________________________________________________\n",
      "dense_1 (Dense)              (None, 4)                 260       \n",
      "=================================================================\n",
      "Total params: 13,873,572\n",
      "Trainable params: 13,873,572\n",
      "Non-trainable params: 0\n",
      "_________________________________________________________________\n"
     ]
    },
    {
     "name": "stderr",
     "output_type": "stream",
     "text": [
      "2022-01-29 06:57:17.795105: I tensorflow/stream_executor/cuda/cuda_gpu_executor.cc:937] successful NUMA node read from SysFS had negative value (-1), but there must be at least one NUMA node, so returning NUMA node zero\n",
      "2022-01-29 06:57:17.887235: I tensorflow/stream_executor/cuda/cuda_gpu_executor.cc:937] successful NUMA node read from SysFS had negative value (-1), but there must be at least one NUMA node, so returning NUMA node zero\n",
      "2022-01-29 06:57:17.888006: I tensorflow/stream_executor/cuda/cuda_gpu_executor.cc:937] successful NUMA node read from SysFS had negative value (-1), but there must be at least one NUMA node, so returning NUMA node zero\n",
      "2022-01-29 06:57:17.889146: I tensorflow/core/platform/cpu_feature_guard.cc:142] This TensorFlow binary is optimized with oneAPI Deep Neural Network Library (oneDNN) to use the following CPU instructions in performance-critical operations:  AVX2 AVX512F FMA\n",
      "To enable them in other operations, rebuild TensorFlow with the appropriate compiler flags.\n",
      "2022-01-29 06:57:17.890019: I tensorflow/stream_executor/cuda/cuda_gpu_executor.cc:937] successful NUMA node read from SysFS had negative value (-1), but there must be at least one NUMA node, so returning NUMA node zero\n",
      "2022-01-29 06:57:17.890661: I tensorflow/stream_executor/cuda/cuda_gpu_executor.cc:937] successful NUMA node read from SysFS had negative value (-1), but there must be at least one NUMA node, so returning NUMA node zero\n",
      "2022-01-29 06:57:17.891285: I tensorflow/stream_executor/cuda/cuda_gpu_executor.cc:937] successful NUMA node read from SysFS had negative value (-1), but there must be at least one NUMA node, so returning NUMA node zero\n",
      "2022-01-29 06:57:19.716983: I tensorflow/stream_executor/cuda/cuda_gpu_executor.cc:937] successful NUMA node read from SysFS had negative value (-1), but there must be at least one NUMA node, so returning NUMA node zero\n",
      "2022-01-29 06:57:19.717823: I tensorflow/stream_executor/cuda/cuda_gpu_executor.cc:937] successful NUMA node read from SysFS had negative value (-1), but there must be at least one NUMA node, so returning NUMA node zero\n",
      "2022-01-29 06:57:19.718530: I tensorflow/stream_executor/cuda/cuda_gpu_executor.cc:937] successful NUMA node read from SysFS had negative value (-1), but there must be at least one NUMA node, so returning NUMA node zero\n",
      "2022-01-29 06:57:19.719136: I tensorflow/core/common_runtime/gpu/gpu_device.cc:1510] Created device /job:localhost/replica:0/task:0/device:GPU:0 with 15403 MB memory:  -> device: 0, name: Tesla P100-PCIE-16GB, pci bus id: 0000:00:04.0, compute capability: 6.0\n"
     ]
    }
   ],
   "source": [
    "model = Sequential() \n",
    "\n",
    "# Convolutional Layer with input shape (350,350,3)\n",
    "model.add(Conv2D(filters=32, kernel_size= (3,3), activation= 'relu', input_shape=(350,350,3)) )\n",
    "\n",
    "model.add(Conv2D(filters=32, kernel_size=(3,3), activation='relu' ))\n",
    "model.add(MaxPool2D(pool_size=(2,2)))\n",
    "\n",
    "model.add(Conv2D(filters=64, kernel_size=(3,3), activation='relu' ))\n",
    "model.add(MaxPool2D(pool_size=(2,2)))\n",
    "\n",
    "model.add(Conv2D(filters=128, kernel_size=(3,3), activation='relu' ))\n",
    "model.add(MaxPool2D(pool_size=(2,2)))\n",
    "\n",
    "model.add(Dropout(rate=0.25))\n",
    "\n",
    "model.add(Flatten())\n",
    "model.add(Dense(units=64, activation='relu'))\n",
    "model.add(Dropout(rate=0.25))\n",
    "#model.add(Dense(units=64, activation='relu'))\n",
    "model.add(Dense(units=4, activation='sigmoid'))\n",
    "\n",
    "model.compile(optimizer='adam', loss='categorical_crossentropy', metrics=['accuracy']  )\n",
    " \n",
    "model.summary()"
   ]
  },
  {
   "cell_type": "code",
   "execution_count": 13,
   "id": "d4b539bb",
   "metadata": {
    "execution": {
     "iopub.execute_input": "2022-01-29T06:57:20.214583Z",
     "iopub.status.busy": "2022-01-29T06:57:20.213824Z",
     "iopub.status.idle": "2022-01-29T06:57:20.218804Z",
     "shell.execute_reply": "2022-01-29T06:57:20.218285Z",
     "shell.execute_reply.started": "2022-01-29T05:52:42.980612Z"
    },
    "papermill": {
     "duration": 0.046866,
     "end_time": "2022-01-29T06:57:20.218938",
     "exception": false,
     "start_time": "2022-01-29T06:57:20.172072",
     "status": "completed"
    },
    "tags": []
   },
   "outputs": [],
   "source": [
    "# Adding Model check point Callback\n",
    "\n",
    "mc = ModelCheckpoint(\n",
    "    filepath=\"./ct_cnn_best_model.hdf5\",\n",
    "    monitor= 'val_accuracy', \n",
    "    verbose= 1,\n",
    "    save_best_only= True, \n",
    "    mode = 'auto'\n",
    "    );\n",
    "\n",
    "call_back = [mc];"
   ]
  },
  {
   "cell_type": "code",
   "execution_count": 14,
   "id": "6b33c09e",
   "metadata": {
    "execution": {
     "iopub.execute_input": "2022-01-29T06:57:20.323011Z",
     "iopub.status.busy": "2022-01-29T06:57:20.322266Z",
     "iopub.status.idle": "2022-01-29T07:08:12.762275Z",
     "shell.execute_reply": "2022-01-29T07:08:12.763528Z",
     "shell.execute_reply.started": "2022-01-29T05:52:51.180437Z"
    },
    "papermill": {
     "duration": 652.49259,
     "end_time": "2022-01-29T07:08:12.763870",
     "exception": false,
     "start_time": "2022-01-29T06:57:20.271280",
     "status": "completed"
    },
    "tags": []
   },
   "outputs": [
    {
     "name": "stderr",
     "output_type": "stream",
     "text": [
      "2022-01-29 06:57:20.572527: I tensorflow/compiler/mlir/mlir_graph_optimization_pass.cc:185] None of the MLIR Optimization Passes are enabled (registered 2)\n"
     ]
    },
    {
     "name": "stdout",
     "output_type": "stream",
     "text": [
      "Epoch 1/32\n"
     ]
    },
    {
     "name": "stderr",
     "output_type": "stream",
     "text": [
      "2022-01-29 06:57:22.033275: I tensorflow/stream_executor/cuda/cuda_dnn.cc:369] Loaded cuDNN version 8005\n"
     ]
    },
    {
     "name": "stdout",
     "output_type": "stream",
     "text": [
      "122/122 [==============================] - 33s 209ms/step - loss: 1.3134 - accuracy: 0.3651 - val_loss: 1.0243 - val_accuracy: 0.4429\n",
      "\n",
      "Epoch 00001: val_accuracy improved from -inf to 0.44286, saving model to ./ct_cnn_best_model.hdf5\n",
      "Epoch 2/32\n",
      "122/122 [==============================] - 18s 147ms/step - loss: 1.2326 - accuracy: 0.4293 - val_loss: 1.0345 - val_accuracy: 0.4714\n",
      "\n",
      "Epoch 00002: val_accuracy improved from 0.44286 to 0.47143, saving model to ./ct_cnn_best_model.hdf5\n",
      "Epoch 3/32\n",
      "122/122 [==============================] - 19s 156ms/step - loss: 1.1750 - accuracy: 0.4260 - val_loss: 1.0451 - val_accuracy: 0.4857\n",
      "\n",
      "Epoch 00003: val_accuracy improved from 0.47143 to 0.48571, saving model to ./ct_cnn_best_model.hdf5\n",
      "Epoch 4/32\n",
      "122/122 [==============================] - 18s 144ms/step - loss: 1.1725 - accuracy: 0.4539 - val_loss: 1.0525 - val_accuracy: 0.5143\n",
      "\n",
      "Epoch 00004: val_accuracy improved from 0.48571 to 0.51429, saving model to ./ct_cnn_best_model.hdf5\n",
      "Epoch 5/32\n",
      "122/122 [==============================] - 19s 152ms/step - loss: 1.1957 - accuracy: 0.4391 - val_loss: 1.0243 - val_accuracy: 0.4857\n",
      "\n",
      "Epoch 00005: val_accuracy did not improve from 0.51429\n",
      "Epoch 6/32\n",
      "122/122 [==============================] - 19s 153ms/step - loss: 1.0911 - accuracy: 0.4967 - val_loss: 1.0013 - val_accuracy: 0.4714\n",
      "\n",
      "Epoch 00006: val_accuracy did not improve from 0.51429\n",
      "Epoch 7/32\n",
      "122/122 [==============================] - 18s 144ms/step - loss: 1.0939 - accuracy: 0.4934 - val_loss: 1.0021 - val_accuracy: 0.3571\n",
      "\n",
      "Epoch 00007: val_accuracy did not improve from 0.51429\n",
      "Epoch 8/32\n",
      "122/122 [==============================] - 18s 149ms/step - loss: 1.0507 - accuracy: 0.5099 - val_loss: 0.9987 - val_accuracy: 0.4429\n",
      "\n",
      "Epoch 00008: val_accuracy did not improve from 0.51429\n",
      "Epoch 9/32\n",
      "122/122 [==============================] - 18s 147ms/step - loss: 1.0379 - accuracy: 0.4934 - val_loss: 1.0700 - val_accuracy: 0.5000\n",
      "\n",
      "Epoch 00009: val_accuracy did not improve from 0.51429\n",
      "Epoch 10/32\n",
      "122/122 [==============================] - 20s 164ms/step - loss: 1.0264 - accuracy: 0.4934 - val_loss: 1.0281 - val_accuracy: 0.5000\n",
      "\n",
      "Epoch 00010: val_accuracy did not improve from 0.51429\n",
      "Epoch 11/32\n",
      "122/122 [==============================] - 18s 151ms/step - loss: 1.0252 - accuracy: 0.5148 - val_loss: 0.9654 - val_accuracy: 0.4286\n",
      "\n",
      "Epoch 00011: val_accuracy did not improve from 0.51429\n",
      "Epoch 12/32\n",
      "122/122 [==============================] - 18s 147ms/step - loss: 0.9756 - accuracy: 0.5066 - val_loss: 0.9581 - val_accuracy: 0.3857\n",
      "\n",
      "Epoch 00012: val_accuracy did not improve from 0.51429\n",
      "Epoch 13/32\n",
      "122/122 [==============================] - 19s 152ms/step - loss: 0.9841 - accuracy: 0.4984 - val_loss: 0.9832 - val_accuracy: 0.4000\n",
      "\n",
      "Epoch 00013: val_accuracy did not improve from 0.51429\n",
      "Epoch 14/32\n",
      "122/122 [==============================] - 18s 148ms/step - loss: 1.0035 - accuracy: 0.5000 - val_loss: 1.3179 - val_accuracy: 0.4571\n",
      "\n",
      "Epoch 00014: val_accuracy did not improve from 0.51429\n",
      "Epoch 15/32\n",
      "122/122 [==============================] - 19s 152ms/step - loss: 1.0018 - accuracy: 0.5164 - val_loss: 0.9970 - val_accuracy: 0.4857\n",
      "\n",
      "Epoch 00015: val_accuracy did not improve from 0.51429\n",
      "Epoch 16/32\n",
      "122/122 [==============================] - 18s 144ms/step - loss: 0.9676 - accuracy: 0.5280 - val_loss: 0.9623 - val_accuracy: 0.4857\n",
      "\n",
      "Epoch 00016: val_accuracy did not improve from 0.51429\n",
      "Epoch 17/32\n",
      "122/122 [==============================] - 19s 151ms/step - loss: 1.0058 - accuracy: 0.5082 - val_loss: 0.9665 - val_accuracy: 0.5000\n",
      "\n",
      "Epoch 00017: val_accuracy did not improve from 0.51429\n",
      "Epoch 18/32\n",
      "122/122 [==============================] - 19s 155ms/step - loss: 0.9626 - accuracy: 0.5329 - val_loss: 0.9810 - val_accuracy: 0.4857\n",
      "\n",
      "Epoch 00018: val_accuracy did not improve from 0.51429\n",
      "Epoch 19/32\n",
      "122/122 [==============================] - 18s 145ms/step - loss: 0.9909 - accuracy: 0.5214 - val_loss: 0.9505 - val_accuracy: 0.4571\n",
      "\n",
      "Epoch 00019: val_accuracy did not improve from 0.51429\n",
      "Epoch 20/32\n",
      "122/122 [==============================] - 19s 158ms/step - loss: 0.9452 - accuracy: 0.5362 - val_loss: 0.9970 - val_accuracy: 0.5000\n",
      "\n",
      "Epoch 00020: val_accuracy did not improve from 0.51429\n",
      "Epoch 21/32\n",
      "122/122 [==============================] - 17s 143ms/step - loss: 0.9672 - accuracy: 0.5247 - val_loss: 0.9590 - val_accuracy: 0.4429\n",
      "\n",
      "Epoch 00021: val_accuracy did not improve from 0.51429\n",
      "Epoch 22/32\n",
      "122/122 [==============================] - 19s 155ms/step - loss: 0.9482 - accuracy: 0.5312 - val_loss: 1.0179 - val_accuracy: 0.4714\n",
      "\n",
      "Epoch 00022: val_accuracy did not improve from 0.51429\n",
      "Epoch 23/32\n",
      "122/122 [==============================] - 19s 155ms/step - loss: 0.9224 - accuracy: 0.5592 - val_loss: 0.9705 - val_accuracy: 0.4143\n",
      "\n",
      "Epoch 00023: val_accuracy did not improve from 0.51429\n",
      "Epoch 24/32\n",
      "122/122 [==============================] - 18s 147ms/step - loss: 0.9253 - accuracy: 0.5461 - val_loss: 0.9817 - val_accuracy: 0.4429\n",
      "\n",
      "Epoch 00024: val_accuracy did not improve from 0.51429\n",
      "Epoch 25/32\n",
      "122/122 [==============================] - 20s 162ms/step - loss: 0.9186 - accuracy: 0.5263 - val_loss: 0.9571 - val_accuracy: 0.4857\n",
      "\n",
      "Epoch 00025: val_accuracy did not improve from 0.51429\n",
      "Epoch 26/32\n",
      "122/122 [==============================] - 19s 159ms/step - loss: 0.9007 - accuracy: 0.5789 - val_loss: 1.0041 - val_accuracy: 0.4714\n",
      "\n",
      "Epoch 00026: val_accuracy did not improve from 0.51429\n",
      "Epoch 27/32\n",
      "122/122 [==============================] - 17s 143ms/step - loss: 0.9153 - accuracy: 0.5658 - val_loss: 1.0666 - val_accuracy: 0.4571\n",
      "\n",
      "Epoch 00027: val_accuracy did not improve from 0.51429\n",
      "Epoch 28/32\n",
      "122/122 [==============================] - 19s 159ms/step - loss: 0.8901 - accuracy: 0.5378 - val_loss: 1.0042 - val_accuracy: 0.4714\n",
      "\n",
      "Epoch 00028: val_accuracy did not improve from 0.51429\n",
      "Epoch 29/32\n",
      "122/122 [==============================] - 18s 147ms/step - loss: 0.9313 - accuracy: 0.5526 - val_loss: 0.9756 - val_accuracy: 0.4714\n",
      "\n",
      "Epoch 00029: val_accuracy did not improve from 0.51429\n",
      "Epoch 30/32\n",
      "122/122 [==============================] - 19s 151ms/step - loss: 0.8939 - accuracy: 0.5576 - val_loss: 0.9788 - val_accuracy: 0.4857\n",
      "\n",
      "Epoch 00030: val_accuracy did not improve from 0.51429\n",
      "Epoch 31/32\n",
      "122/122 [==============================] - 19s 158ms/step - loss: 0.9039 - accuracy: 0.5543 - val_loss: 0.9936 - val_accuracy: 0.4571\n",
      "\n",
      "Epoch 00031: val_accuracy did not improve from 0.51429\n",
      "Epoch 32/32\n",
      "122/122 [==============================] - 18s 147ms/step - loss: 0.8876 - accuracy: 0.5740 - val_loss: 0.9538 - val_accuracy: 0.4714\n",
      "\n",
      "Epoch 00032: val_accuracy did not improve from 0.51429\n"
     ]
    }
   ],
   "source": [
    "# Fitting the Model\n",
    "cnn = model.fit(\n",
    "    train_data, \n",
    "    steps_per_epoch = train_data.samples//train_data.batch_size, \n",
    "    epochs = 32, \n",
    "    validation_data = val_data, \n",
    "    validation_steps = val_data.samples//val_data.batch_size,\n",
    "    callbacks = call_back\n",
    "    )"
   ]
  },
  {
   "cell_type": "code",
   "execution_count": 15,
   "id": "69acd8fa",
   "metadata": {
    "execution": {
     "iopub.execute_input": "2022-01-29T07:08:14.960030Z",
     "iopub.status.busy": "2022-01-29T07:08:14.959203Z",
     "iopub.status.idle": "2022-01-29T07:08:15.416777Z",
     "shell.execute_reply": "2022-01-29T07:08:15.416256Z",
     "shell.execute_reply.started": "2022-01-29T06:06:48.859550Z"
    },
    "papermill": {
     "duration": 1.558354,
     "end_time": "2022-01-29T07:08:15.416925",
     "exception": false,
     "start_time": "2022-01-29T07:08:13.858571",
     "status": "completed"
    },
    "tags": []
   },
   "outputs": [],
   "source": [
    "# Loading the Best Fit Model \n",
    "model = load_model(\"./ct_cnn_best_model.hdf5\")"
   ]
  },
  {
   "cell_type": "code",
   "execution_count": 16,
   "id": "a3a533a3",
   "metadata": {
    "execution": {
     "iopub.execute_input": "2022-01-29T07:08:17.565947Z",
     "iopub.status.busy": "2022-01-29T07:08:17.565097Z",
     "iopub.status.idle": "2022-01-29T07:08:22.144380Z",
     "shell.execute_reply": "2022-01-29T07:08:22.143928Z",
     "shell.execute_reply.started": "2022-01-29T06:06:51.930129Z"
    },
    "papermill": {
     "duration": 5.663292,
     "end_time": "2022-01-29T07:08:22.144509",
     "exception": false,
     "start_time": "2022-01-29T07:08:16.481217",
     "status": "completed"
    },
    "tags": []
   },
   "outputs": [
    {
     "name": "stdout",
     "output_type": "stream",
     "text": [
      "The accuracy of the model is = 52.3809552192688 %\n"
     ]
    }
   ],
   "source": [
    "# Checking the Accuracy of the Model \n",
    "accuracy_cnn = model.evaluate_generator(generator= test_data)[1] \n",
    "print(f\"The accuracy of the model is = {accuracy_cnn*100} %\")"
   ]
  },
  {
   "cell_type": "code",
   "execution_count": 17,
   "id": "8776e1a0",
   "metadata": {
    "execution": {
     "iopub.execute_input": "2022-01-29T07:08:24.571446Z",
     "iopub.status.busy": "2022-01-29T07:08:24.570685Z",
     "iopub.status.idle": "2022-01-29T07:08:24.573350Z",
     "shell.execute_reply": "2022-01-29T07:08:24.573786Z",
     "shell.execute_reply.started": "2022-01-29T06:07:02.981528Z"
    },
    "papermill": {
     "duration": 1.360704,
     "end_time": "2022-01-29T07:08:24.573936",
     "exception": false,
     "start_time": "2022-01-29T07:08:23.213232",
     "status": "completed"
    },
    "tags": []
   },
   "outputs": [
    {
     "data": {
      "text/plain": [
       "dict_keys(['loss', 'accuracy', 'val_loss', 'val_accuracy'])"
      ]
     },
     "execution_count": 17,
     "metadata": {},
     "output_type": "execute_result"
    }
   ],
   "source": [
    "cnn.history.keys()"
   ]
  },
  {
   "cell_type": "code",
   "execution_count": 18,
   "id": "39af2b5a",
   "metadata": {
    "execution": {
     "iopub.execute_input": "2022-01-29T07:08:26.716646Z",
     "iopub.status.busy": "2022-01-29T07:08:26.715439Z",
     "iopub.status.idle": "2022-01-29T07:08:27.103171Z",
     "shell.execute_reply": "2022-01-29T07:08:27.102705Z",
     "shell.execute_reply.started": "2022-01-29T06:07:09.448816Z"
    },
    "papermill": {
     "duration": 1.46976,
     "end_time": "2022-01-29T07:08:27.103295",
     "exception": false,
     "start_time": "2022-01-29T07:08:25.633535",
     "status": "completed"
    },
    "tags": []
   },
   "outputs": [
    {
     "data": {
      "image/png": "[encoded data removed]",
      "text/plain": [
       "<Figure size 1080x360 with 2 Axes>"
      ]
     },
     "metadata": {
      "needs_background": "light"
     },
     "output_type": "display_data"
    }
   ],
   "source": [
    "# Plot model performance\n",
    "acc = cnn.history['accuracy']\n",
    "val_acc = cnn.history['val_accuracy']\n",
    "loss = cnn.history['loss']\n",
    "val_loss = cnn.history['val_loss']\n",
    "epochs_range = range(1, len(cnn.epoch) + 1)\n",
    "\n",
    "plt.figure(figsize=(15,5))\n",
    "\n",
    "plt.subplot(1, 2, 1)\n",
    "plt.plot(epochs_range, acc, label='Train Set')\n",
    "plt.plot(epochs_range, val_acc, label='Val Set')\n",
    "plt.legend(loc=\"best\")\n",
    "plt.xlabel('Epochs')\n",
    "plt.ylabel('Accuracy')\n",
    "plt.title('Model Accuracy')\n",
    "\n",
    "plt.subplot(1, 2, 2)\n",
    "plt.plot(epochs_range, loss, label='Train Set')\n",
    "plt.plot(epochs_range, val_loss, label='Val Set')\n",
    "plt.legend(loc=\"best\")\n",
    "plt.xlabel('Epochs')\n",
    "plt.ylabel('Loss')\n",
    "plt.title('Model Loss')\n",
    "\n",
    "plt.tight_layout()\n",
    "plt.show()"
   ]
  },
  {
   "cell_type": "markdown",
   "id": "03864095",
   "metadata": {
    "papermill": {
     "duration": 1.06971,
     "end_time": "2022-01-29T07:08:29.284129",
     "exception": false,
     "start_time": "2022-01-29T07:08:28.214419",
     "status": "completed"
    },
    "tags": []
   },
   "source": [
    "## VGG16 Model"
   ]
  },
  {
   "cell_type": "code",
   "execution_count": 19,
   "id": "2731bd2f",
   "metadata": {
    "execution": {
     "iopub.execute_input": "2022-01-29T07:08:31.439828Z",
     "iopub.status.busy": "2022-01-29T07:08:31.438990Z",
     "iopub.status.idle": "2022-01-29T07:08:32.055933Z",
     "shell.execute_reply": "2022-01-29T07:08:32.055369Z",
     "shell.execute_reply.started": "2022-01-29T06:07:15.278471Z"
    },
    "papermill": {
     "duration": 1.696346,
     "end_time": "2022-01-29T07:08:32.056157",
     "exception": false,
     "start_time": "2022-01-29T07:08:30.359811",
     "status": "completed"
    },
    "tags": []
   },
   "outputs": [
    {
     "name": "stdout",
     "output_type": "stream",
     "text": [
      "Downloading data from https://storage.googleapis.com/tensorflow/keras-applications/vgg16/vgg16_weights_tf_dim_ordering_tf_kernels_notop.h5\n",
      "58892288/58889256 [==============================] - 0s 0us/step\n",
      "58900480/58889256 [==============================] - 0s 0us/step\n"
     ]
    }
   ],
   "source": [
    "base_model = VGG16(\n",
    "    weights='imagenet',\n",
    "    include_top=False, \n",
    "    input_shape=(350,350,3)\n",
    ")"
   ]
  },
  {
   "cell_type": "code",
   "execution_count": 20,
   "id": "f69415da",
   "metadata": {
    "execution": {
     "iopub.execute_input": "2022-01-29T07:08:34.238137Z",
     "iopub.status.busy": "2022-01-29T07:08:34.237223Z",
     "iopub.status.idle": "2022-01-29T07:08:34.375104Z",
     "shell.execute_reply": "2022-01-29T07:08:34.375703Z",
     "shell.execute_reply.started": "2022-01-29T06:07:23.476502Z"
    },
    "papermill": {
     "duration": 1.230089,
     "end_time": "2022-01-29T07:08:34.377026",
     "exception": false,
     "start_time": "2022-01-29T07:08:33.146937",
     "status": "completed"
    },
    "tags": []
   },
   "outputs": [
    {
     "name": "stdout",
     "output_type": "stream",
     "text": [
      "Model: \"sequential_1\"\n",
      "_________________________________________________________________\n",
      "Layer (type)                 Output Shape              Param #   \n",
      "=================================================================\n",
      "vgg16 (Functional)           (None, 10, 10, 512)       14714688  \n",
      "_________________________________________________________________\n",
      "flatten_1 (Flatten)          (None, 51200)             0         \n",
      "_________________________________________________________________\n",
      "dropout_2 (Dropout)          (None, 51200)             0         \n",
      "_________________________________________________________________\n",
      "dense_2 (Dense)              (None, 4)                 204804    \n",
      "=================================================================\n",
      "Total params: 14,919,492\n",
      "Trainable params: 204,804\n",
      "Non-trainable params: 14,714,688\n",
      "_________________________________________________________________\n"
     ]
    }
   ],
   "source": [
    "NUM_CLASSES = 4\n",
    "\n",
    "vgg_model = Sequential()\n",
    "vgg_model.add(base_model)\n",
    "vgg_model.add(layers.Flatten())\n",
    "vgg_model.add(layers.Dropout(0.25))\n",
    "vgg_model.add(layers.Dense(NUM_CLASSES, activation='sigmoid'))\n",
    "\n",
    "vgg_model.layers[0].trainable = False\n",
    "\n",
    "vgg_model.compile(\n",
    "    loss='categorical_crossentropy',\n",
    "    optimizer='adam',\n",
    "    metrics=['accuracy']\n",
    ")\n",
    "\n",
    "vgg_model.summary()"
   ]
  },
  {
   "cell_type": "code",
   "execution_count": 21,
   "id": "06c2768f",
   "metadata": {
    "execution": {
     "iopub.execute_input": "2022-01-29T07:08:36.759196Z",
     "iopub.status.busy": "2022-01-29T07:08:36.758431Z",
     "iopub.status.idle": "2022-01-29T07:08:36.761040Z",
     "shell.execute_reply": "2022-01-29T07:08:36.760558Z",
     "shell.execute_reply.started": "2022-01-29T06:07:28.748171Z"
    },
    "papermill": {
     "duration": 1.119082,
     "end_time": "2022-01-29T07:08:36.761160",
     "exception": false,
     "start_time": "2022-01-29T07:08:35.642078",
     "status": "completed"
    },
    "tags": []
   },
   "outputs": [],
   "source": [
    "# Adding Model check point Callback\n",
    "\n",
    "mc = ModelCheckpoint(\n",
    "    filepath=\"./ct_vgg_best_model.hdf5\",\n",
    "    monitor= 'val_accuracy', \n",
    "    verbose= 1,\n",
    "    save_best_only= True, \n",
    "    mode = 'auto'\n",
    "    );\n",
    "\n",
    "call_back = [ mc];"
   ]
  },
  {
   "cell_type": "code",
   "execution_count": 22,
   "id": "3188d069",
   "metadata": {
    "execution": {
     "iopub.execute_input": "2022-01-29T07:08:38.911629Z",
     "iopub.status.busy": "2022-01-29T07:08:38.910610Z",
     "iopub.status.idle": "2022-01-29T07:20:48.048964Z",
     "shell.execute_reply": "2022-01-29T07:20:48.050104Z",
     "shell.execute_reply.started": "2022-01-29T06:07:33.620716Z"
    },
    "papermill": {
     "duration": 730.229094,
     "end_time": "2022-01-29T07:20:48.050331",
     "exception": false,
     "start_time": "2022-01-29T07:08:37.821237",
     "status": "completed"
    },
    "tags": []
   },
   "outputs": [
    {
     "name": "stdout",
     "output_type": "stream",
     "text": [
      "Epoch 1/32\n",
      "122/122 [==============================] - 22s 166ms/step - loss: 2.2902 - accuracy: 0.5164 - val_loss: 2.6807 - val_accuracy: 0.4857\n",
      "\n",
      "Epoch 00001: val_accuracy improved from -inf to 0.48571, saving model to ./ct_vgg_best_model.hdf5\n",
      "Epoch 2/32\n",
      "122/122 [==============================] - 21s 168ms/step - loss: 1.3663 - accuracy: 0.5938 - val_loss: 2.4951 - val_accuracy: 0.4714\n",
      "\n",
      "Epoch 00002: val_accuracy did not improve from 0.48571\n",
      "Epoch 3/32\n",
      "122/122 [==============================] - 20s 162ms/step - loss: 1.6620 - accuracy: 0.6299 - val_loss: 1.5444 - val_accuracy: 0.6000\n",
      "\n",
      "Epoch 00003: val_accuracy improved from 0.48571 to 0.60000, saving model to ./ct_vgg_best_model.hdf5\n",
      "Epoch 4/32\n",
      "122/122 [==============================] - 20s 165ms/step - loss: 1.2455 - accuracy: 0.6694 - val_loss: 3.9462 - val_accuracy: 0.5000\n",
      "\n",
      "Epoch 00004: val_accuracy did not improve from 0.60000\n",
      "Epoch 5/32\n",
      "122/122 [==============================] - 19s 159ms/step - loss: 1.3598 - accuracy: 0.6809 - val_loss: 5.1086 - val_accuracy: 0.4429\n",
      "\n",
      "Epoch 00005: val_accuracy did not improve from 0.60000\n",
      "Epoch 6/32\n",
      "122/122 [==============================] - 20s 164ms/step - loss: 1.6433 - accuracy: 0.6546 - val_loss: 0.9172 - val_accuracy: 0.6857\n",
      "\n",
      "Epoch 00006: val_accuracy improved from 0.60000 to 0.68571, saving model to ./ct_vgg_best_model.hdf5\n",
      "Epoch 7/32\n",
      "122/122 [==============================] - 20s 168ms/step - loss: 1.3484 - accuracy: 0.7138 - val_loss: 1.4173 - val_accuracy: 0.6143\n",
      "\n",
      "Epoch 00007: val_accuracy did not improve from 0.68571\n",
      "Epoch 8/32\n",
      "122/122 [==============================] - 20s 161ms/step - loss: 1.6196 - accuracy: 0.6842 - val_loss: 2.4088 - val_accuracy: 0.4857\n",
      "\n",
      "Epoch 00008: val_accuracy did not improve from 0.68571\n",
      "Epoch 9/32\n",
      "122/122 [==============================] - 19s 158ms/step - loss: 1.2693 - accuracy: 0.7319 - val_loss: 1.4854 - val_accuracy: 0.6286\n",
      "\n",
      "Epoch 00009: val_accuracy did not improve from 0.68571\n",
      "Epoch 10/32\n",
      "122/122 [==============================] - 20s 160ms/step - loss: 1.0959 - accuracy: 0.7451 - val_loss: 1.2146 - val_accuracy: 0.7714\n",
      "\n",
      "Epoch 00010: val_accuracy improved from 0.68571 to 0.77143, saving model to ./ct_vgg_best_model.hdf5\n",
      "Epoch 11/32\n",
      "122/122 [==============================] - 20s 164ms/step - loss: 1.0230 - accuracy: 0.7467 - val_loss: 1.9729 - val_accuracy: 0.5857\n",
      "\n",
      "Epoch 00011: val_accuracy did not improve from 0.77143\n",
      "Epoch 12/32\n",
      "122/122 [==============================] - 19s 157ms/step - loss: 1.1432 - accuracy: 0.7401 - val_loss: 1.0669 - val_accuracy: 0.7286\n",
      "\n",
      "Epoch 00012: val_accuracy did not improve from 0.77143\n",
      "Epoch 13/32\n",
      "122/122 [==============================] - 19s 160ms/step - loss: 0.9874 - accuracy: 0.7714 - val_loss: 1.8666 - val_accuracy: 0.6286\n",
      "\n",
      "Epoch 00013: val_accuracy did not improve from 0.77143\n",
      "Epoch 14/32\n",
      "122/122 [==============================] - 20s 163ms/step - loss: 1.1126 - accuracy: 0.7632 - val_loss: 1.5141 - val_accuracy: 0.7714\n",
      "\n",
      "Epoch 00014: val_accuracy did not improve from 0.77143\n",
      "Epoch 15/32\n",
      "122/122 [==============================] - 19s 158ms/step - loss: 1.3474 - accuracy: 0.7467 - val_loss: 1.4283 - val_accuracy: 0.7571\n",
      "\n",
      "Epoch 00015: val_accuracy did not improve from 0.77143\n",
      "Epoch 16/32\n",
      "122/122 [==============================] - 20s 164ms/step - loss: 1.1116 - accuracy: 0.7582 - val_loss: 2.4654 - val_accuracy: 0.5857\n",
      "\n",
      "Epoch 00016: val_accuracy did not improve from 0.77143\n",
      "Epoch 17/32\n",
      "122/122 [==============================] - 19s 158ms/step - loss: 0.8996 - accuracy: 0.8109 - val_loss: 1.3385 - val_accuracy: 0.8000\n",
      "\n",
      "Epoch 00017: val_accuracy improved from 0.77143 to 0.80000, saving model to ./ct_vgg_best_model.hdf5\n",
      "Epoch 18/32\n",
      "122/122 [==============================] - 20s 162ms/step - loss: 0.8743 - accuracy: 0.7944 - val_loss: 1.4598 - val_accuracy: 0.7286\n",
      "\n",
      "Epoch 00018: val_accuracy did not improve from 0.80000\n",
      "Epoch 19/32\n",
      "122/122 [==============================] - 20s 166ms/step - loss: 0.9451 - accuracy: 0.8076 - val_loss: 1.4251 - val_accuracy: 0.7857\n",
      "\n",
      "Epoch 00019: val_accuracy did not improve from 0.80000\n",
      "Epoch 20/32\n",
      "122/122 [==============================] - 19s 155ms/step - loss: 1.0049 - accuracy: 0.7993 - val_loss: 1.5703 - val_accuracy: 0.7714\n",
      "\n",
      "Epoch 00020: val_accuracy did not improve from 0.80000\n",
      "Epoch 21/32\n",
      "122/122 [==============================] - 20s 162ms/step - loss: 1.2815 - accuracy: 0.7582 - val_loss: 3.4791 - val_accuracy: 0.6000\n",
      "\n",
      "Epoch 00021: val_accuracy did not improve from 0.80000\n",
      "Epoch 22/32\n",
      "122/122 [==============================] - 19s 159ms/step - loss: 1.1903 - accuracy: 0.7829 - val_loss: 1.4463 - val_accuracy: 0.7143\n",
      "\n",
      "Epoch 00022: val_accuracy did not improve from 0.80000\n",
      "Epoch 23/32\n",
      "122/122 [==============================] - 20s 162ms/step - loss: 0.9036 - accuracy: 0.8076 - val_loss: 1.9277 - val_accuracy: 0.7429\n",
      "\n",
      "Epoch 00023: val_accuracy did not improve from 0.80000\n",
      "Epoch 24/32\n",
      "122/122 [==============================] - 20s 167ms/step - loss: 0.8620 - accuracy: 0.8109 - val_loss: 1.6978 - val_accuracy: 0.7286\n",
      "\n",
      "Epoch 00024: val_accuracy did not improve from 0.80000\n",
      "Epoch 25/32\n",
      "122/122 [==============================] - 19s 154ms/step - loss: 0.9967 - accuracy: 0.7862 - val_loss: 4.6943 - val_accuracy: 0.5714\n",
      "\n",
      "Epoch 00025: val_accuracy did not improve from 0.80000\n",
      "Epoch 26/32\n",
      "122/122 [==============================] - 20s 164ms/step - loss: 1.1012 - accuracy: 0.7780 - val_loss: 1.9564 - val_accuracy: 0.7143\n",
      "\n",
      "Epoch 00026: val_accuracy did not improve from 0.80000\n",
      "Epoch 27/32\n",
      "122/122 [==============================] - 19s 159ms/step - loss: 1.1229 - accuracy: 0.7796 - val_loss: 1.1666 - val_accuracy: 0.8429\n",
      "\n",
      "Epoch 00027: val_accuracy improved from 0.80000 to 0.84286, saving model to ./ct_vgg_best_model.hdf5\n",
      "Epoch 28/32\n",
      "122/122 [==============================] - 20s 159ms/step - loss: 0.8297 - accuracy: 0.8240 - val_loss: 1.3661 - val_accuracy: 0.7857\n",
      "\n",
      "Epoch 00028: val_accuracy did not improve from 0.84286\n",
      "Epoch 29/32\n",
      "122/122 [==============================] - 21s 169ms/step - loss: 0.7944 - accuracy: 0.8355 - val_loss: 1.9350 - val_accuracy: 0.7714\n",
      "\n",
      "Epoch 00029: val_accuracy did not improve from 0.84286\n",
      "Epoch 30/32\n",
      "122/122 [==============================] - 20s 166ms/step - loss: 0.6700 - accuracy: 0.8388 - val_loss: 2.4537 - val_accuracy: 0.8000\n",
      "\n",
      "Epoch 00030: val_accuracy did not improve from 0.84286\n",
      "Epoch 31/32\n",
      "122/122 [==============================] - 20s 164ms/step - loss: 1.0555 - accuracy: 0.8043 - val_loss: 1.5037 - val_accuracy: 0.7714\n",
      "\n",
      "Epoch 00031: val_accuracy did not improve from 0.84286\n",
      "Epoch 32/32\n",
      "122/122 [==============================] - 19s 156ms/step - loss: 0.6695 - accuracy: 0.8438 - val_loss: 1.9985 - val_accuracy: 0.7857\n",
      "\n",
      "Epoch 00032: val_accuracy did not improve from 0.84286\n"
     ]
    }
   ],
   "source": [
    "# Fitting the Model\n",
    "vgg = vgg_model.fit(\n",
    "    train_data, \n",
    "    steps_per_epoch = train_data.samples//train_data.batch_size, \n",
    "    epochs = 32, \n",
    "    validation_data = val_data, \n",
    "    validation_steps = val_data.samples//val_data.batch_size,\n",
    "    callbacks = call_back \n",
    "    )"
   ]
  },
  {
   "cell_type": "code",
   "execution_count": 23,
   "id": "9b87bc9a",
   "metadata": {
    "execution": {
     "iopub.execute_input": "2022-01-29T07:20:52.718468Z",
     "iopub.status.busy": "2022-01-29T07:20:52.717910Z",
     "iopub.status.idle": "2022-01-29T07:20:52.943588Z",
     "shell.execute_reply": "2022-01-29T07:20:52.944082Z",
     "shell.execute_reply.started": "2022-01-29T06:18:29.700150Z"
    },
    "papermill": {
     "duration": 2.564806,
     "end_time": "2022-01-29T07:20:52.944246",
     "exception": false,
     "start_time": "2022-01-29T07:20:50.379440",
     "status": "completed"
    },
    "tags": []
   },
   "outputs": [],
   "source": [
    "# Loading the Best Fit Model \n",
    "model = load_model(\"./ct_vgg_best_model.hdf5\")"
   ]
  },
  {
   "cell_type": "code",
   "execution_count": 24,
   "id": "f3898ea4",
   "metadata": {
    "execution": {
     "iopub.execute_input": "2022-01-29T07:20:57.179709Z",
     "iopub.status.busy": "2022-01-29T07:20:57.179024Z",
     "iopub.status.idle": "2022-01-29T07:20:59.942040Z",
     "shell.execute_reply": "2022-01-29T07:20:59.942471Z",
     "shell.execute_reply.started": "2022-01-29T06:18:44.015578Z"
    },
    "papermill": {
     "duration": 4.912685,
     "end_time": "2022-01-29T07:20:59.942621",
     "exception": false,
     "start_time": "2022-01-29T07:20:55.029936",
     "status": "completed"
    },
    "tags": []
   },
   "outputs": [
    {
     "name": "stdout",
     "output_type": "stream",
     "text": [
      "The accuracy of the model is = 80.3174614906311 %\n"
     ]
    }
   ],
   "source": [
    "# Checking the Accuracy of the Model \n",
    "accuracy_vgg = model.evaluate_generator(generator= test_data)[1] \n",
    "print(f\"The accuracy of the model is = {accuracy_vgg*100} %\")"
   ]
  },
  {
   "cell_type": "code",
   "execution_count": 25,
   "id": "8946c448",
   "metadata": {
    "execution": {
     "iopub.execute_input": "2022-01-29T07:21:04.427906Z",
     "iopub.status.busy": "2022-01-29T07:21:04.427138Z",
     "iopub.status.idle": "2022-01-29T07:21:04.429919Z",
     "shell.execute_reply": "2022-01-29T07:21:04.430329Z",
     "shell.execute_reply.started": "2022-01-29T06:19:06.318306Z"
    },
    "papermill": {
     "duration": 2.372473,
     "end_time": "2022-01-29T07:21:04.430461",
     "exception": false,
     "start_time": "2022-01-29T07:21:02.057988",
     "status": "completed"
    },
    "tags": []
   },
   "outputs": [
    {
     "data": {
      "text/plain": [
       "dict_keys(['loss', 'accuracy', 'val_loss', 'val_accuracy'])"
      ]
     },
     "execution_count": 25,
     "metadata": {},
     "output_type": "execute_result"
    }
   ],
   "source": [
    "vgg.history.keys()"
   ]
  },
  {
   "cell_type": "code",
   "execution_count": 26,
   "id": "4807dfb1",
   "metadata": {
    "execution": {
     "iopub.execute_input": "2022-01-29T07:21:08.642494Z",
     "iopub.status.busy": "2022-01-29T07:21:08.624669Z",
     "iopub.status.idle": "2022-01-29T07:21:09.044959Z",
     "shell.execute_reply": "2022-01-29T07:21:09.045365Z",
     "shell.execute_reply.started": "2022-01-29T06:19:12.565702Z"
    },
    "papermill": {
     "duration": 2.50354,
     "end_time": "2022-01-29T07:21:09.045510",
     "exception": false,
     "start_time": "2022-01-29T07:21:06.541970",
     "status": "completed"
    },
    "tags": []
   },
   "outputs": [
    {
     "data": {
      "image/png": "[encoded data removed]",
      "text/plain": [
       "<Figure size 1080x360 with 2 Axes>"
      ]
     },
     "metadata": {
      "needs_background": "light"
     },
     "output_type": "display_data"
    }
   ],
   "source": [
    "# Plot model performance\n",
    "acc = vgg.history['accuracy']\n",
    "val_acc = vgg.history['val_accuracy']\n",
    "loss = vgg.history['loss']\n",
    "val_loss = vgg.history['val_loss']\n",
    "epochs_range = range(1, len(vgg.epoch) + 1)\n",
    "\n",
    "plt.figure(figsize=(15,5))\n",
    "\n",
    "plt.subplot(1, 2, 1)\n",
    "plt.plot(epochs_range, acc, label='Train Set')\n",
    "plt.plot(epochs_range, val_acc, label='Val Set')\n",
    "plt.legend(loc=\"best\")\n",
    "plt.xlabel('Epochs')\n",
    "plt.ylabel('Accuracy')\n",
    "plt.title('Model Accuracy')\n",
    "\n",
    "plt.subplot(1, 2, 2)\n",
    "plt.plot(epochs_range, loss, label='Train Set')\n",
    "plt.plot(epochs_range, val_loss, label='Val Set')\n",
    "plt.legend(loc=\"best\")\n",
    "plt.xlabel('Epochs')\n",
    "plt.ylabel('Loss')\n",
    "plt.title('Model Loss')\n",
    "\n",
    "plt.tight_layout()\n",
    "plt.show()"
   ]
  },
  {
   "cell_type": "markdown",
   "id": "0665d9b6",
   "metadata": {
    "papermill": {
     "duration": 2.167268,
     "end_time": "2022-01-29T07:21:13.321056",
     "exception": false,
     "start_time": "2022-01-29T07:21:11.153788",
     "status": "completed"
    },
    "tags": []
   },
   "source": [
    "## Inceptionv3 Model"
   ]
  },
  {
   "cell_type": "code",
   "execution_count": 27,
   "id": "c58e33ba",
   "metadata": {
    "execution": {
     "iopub.execute_input": "2022-01-29T07:21:17.707915Z",
     "iopub.status.busy": "2022-01-29T07:21:17.706997Z",
     "iopub.status.idle": "2022-01-29T07:21:20.128534Z",
     "shell.execute_reply": "2022-01-29T07:21:20.127968Z",
     "shell.execute_reply.started": "2022-01-29T06:19:27.686128Z"
    },
    "papermill": {
     "duration": 4.52077,
     "end_time": "2022-01-29T07:21:20.128659",
     "exception": false,
     "start_time": "2022-01-29T07:21:15.607889",
     "status": "completed"
    },
    "tags": []
   },
   "outputs": [
    {
     "name": "stdout",
     "output_type": "stream",
     "text": [
      "Downloading data from https://storage.googleapis.com/tensorflow/keras-applications/inception_v3/inception_v3_weights_tf_dim_ordering_tf_kernels_notop.h5\n",
      "87916544/87910968 [==============================] - 0s 0us/step\n",
      "87924736/87910968 [==============================] - 0s 0us/step\n"
     ]
    }
   ],
   "source": [
    "from tensorflow.keras.applications.inception_v3 import InceptionV3\n",
    "\n",
    "base_model = InceptionV3(input_shape = (350, 350, 3), \n",
    "                         include_top = False, \n",
    "                         weights = 'imagenet')"
   ]
  },
  {
   "cell_type": "code",
   "execution_count": 28,
   "id": "00e60c29",
   "metadata": {
    "execution": {
     "iopub.execute_input": "2022-01-29T07:21:25.135319Z",
     "iopub.status.busy": "2022-01-29T07:21:25.134524Z",
     "iopub.status.idle": "2022-01-29T07:21:25.136583Z",
     "shell.execute_reply": "2022-01-29T07:21:25.136985Z",
     "shell.execute_reply.started": "2022-01-29T06:19:33.135107Z"
    },
    "papermill": {
     "duration": 2.399249,
     "end_time": "2022-01-29T07:21:25.137131",
     "exception": false,
     "start_time": "2022-01-29T07:21:22.737882",
     "status": "completed"
    },
    "tags": []
   },
   "outputs": [],
   "source": [
    "for layer in base_model.layers:\n",
    "    layer.trainable = False"
   ]
  },
  {
   "cell_type": "code",
   "execution_count": 29,
   "id": "a9b5bcb9",
   "metadata": {
    "execution": {
     "iopub.execute_input": "2022-01-29T07:21:29.314761Z",
     "iopub.status.busy": "2022-01-29T07:21:29.313931Z",
     "iopub.status.idle": "2022-01-29T07:21:29.356871Z",
     "shell.execute_reply": "2022-01-29T07:21:29.357247Z",
     "shell.execute_reply.started": "2022-01-29T06:19:39.213903Z"
    },
    "papermill": {
     "duration": 2.158013,
     "end_time": "2022-01-29T07:21:29.357397",
     "exception": false,
     "start_time": "2022-01-29T07:21:27.199384",
     "status": "completed"
    },
    "tags": []
   },
   "outputs": [],
   "source": [
    "x = layers.Flatten()(base_model.output)\n",
    "x = layers.Dense(1024, activation='relu')(x)\n",
    "x = layers.Dropout(0.2)(x)\n",
    "\n",
    "# Add a final sigmoid layer with 4 node for classification output\n",
    "x = layers.Dense(4, activation='sigmoid')(x)\n",
    "\n",
    "model_incep = tf.keras.models.Model(base_model.input, x)\n",
    "\n",
    "model_incep.compile(optimizer = tensorflow.keras.optimizers.RMSprop(learning_rate=0.0001), \n",
    "                    loss = 'categorical_crossentropy', \n",
    "                    metrics = ['accuracy'])"
   ]
  },
  {
   "cell_type": "code",
   "execution_count": 30,
   "id": "495d0196",
   "metadata": {
    "execution": {
     "iopub.execute_input": "2022-01-29T07:21:33.526620Z",
     "iopub.status.busy": "2022-01-29T07:21:33.525775Z",
     "iopub.status.idle": "2022-01-29T07:21:33.527807Z",
     "shell.execute_reply": "2022-01-29T07:21:33.528170Z",
     "shell.execute_reply.started": "2022-01-29T06:19:45.258744Z"
    },
    "papermill": {
     "duration": 2.065221,
     "end_time": "2022-01-29T07:21:33.528305",
     "exception": false,
     "start_time": "2022-01-29T07:21:31.463084",
     "status": "completed"
    },
    "tags": []
   },
   "outputs": [],
   "source": [
    "# Adding Model check point Callback\n",
    "\n",
    "mc = ModelCheckpoint(\n",
    "    filepath=\"./ct_incep_best_model.hdf5\",\n",
    "    monitor= 'val_accuracy', \n",
    "    verbose= 1,\n",
    "    save_best_only= True, \n",
    "    mode = 'auto'\n",
    "    );\n",
    "\n",
    "call_back = [mc];"
   ]
  },
  {
   "cell_type": "code",
   "execution_count": 31,
   "id": "d2f92723",
   "metadata": {
    "execution": {
     "iopub.execute_input": "2022-01-29T07:21:38.145133Z",
     "iopub.status.busy": "2022-01-29T07:21:38.143991Z",
     "iopub.status.idle": "2022-01-29T07:38:58.109235Z",
     "shell.execute_reply": "2022-01-29T07:38:58.108672Z",
     "shell.execute_reply.started": "2022-01-29T06:19:48.050652Z"
    },
    "papermill": {
     "duration": 1042.15909,
     "end_time": "2022-01-29T07:38:58.109367",
     "exception": false,
     "start_time": "2022-01-29T07:21:35.950277",
     "status": "completed"
    },
    "tags": []
   },
   "outputs": [
    {
     "name": "stdout",
     "output_type": "stream",
     "text": [
      "Epoch 1/32\n",
      "122/122 [==============================] - 25s 175ms/step - loss: 8.1182 - accuracy: 0.4507 - val_loss: 7.0153 - val_accuracy: 0.3857\n",
      "\n",
      "Epoch 00001: val_accuracy improved from -inf to 0.38571, saving model to ./ct_incep_best_model.hdf5\n",
      "Epoch 2/32\n",
      "122/122 [==============================] - 22s 177ms/step - loss: 3.1930 - accuracy: 0.5526 - val_loss: 4.8674 - val_accuracy: 0.4000\n",
      "\n",
      "Epoch 00002: val_accuracy improved from 0.38571 to 0.40000, saving model to ./ct_incep_best_model.hdf5\n",
      "Epoch 3/32\n",
      "122/122 [==============================] - 22s 184ms/step - loss: 1.8200 - accuracy: 0.6069 - val_loss: 1.3577 - val_accuracy: 0.5286\n",
      "\n",
      "Epoch 00003: val_accuracy improved from 0.40000 to 0.52857, saving model to ./ct_incep_best_model.hdf5\n",
      "Epoch 4/32\n",
      "122/122 [==============================] - 22s 179ms/step - loss: 1.3759 - accuracy: 0.6497 - val_loss: 1.5854 - val_accuracy: 0.5286\n",
      "\n",
      "Epoch 00004: val_accuracy did not improve from 0.52857\n",
      "Epoch 5/32\n",
      "122/122 [==============================] - 22s 180ms/step - loss: 1.1669 - accuracy: 0.6612 - val_loss: 0.9936 - val_accuracy: 0.6000\n",
      "\n",
      "Epoch 00005: val_accuracy improved from 0.52857 to 0.60000, saving model to ./ct_incep_best_model.hdf5\n",
      "Epoch 6/32\n",
      "122/122 [==============================] - 22s 180ms/step - loss: 1.1173 - accuracy: 0.6760 - val_loss: 1.7817 - val_accuracy: 0.5000\n",
      "\n",
      "Epoch 00006: val_accuracy did not improve from 0.60000\n",
      "Epoch 7/32\n",
      "122/122 [==============================] - 20s 165ms/step - loss: 0.8550 - accuracy: 0.7270 - val_loss: 0.5296 - val_accuracy: 0.7571\n",
      "\n",
      "Epoch 00007: val_accuracy improved from 0.60000 to 0.75714, saving model to ./ct_incep_best_model.hdf5\n",
      "Epoch 8/32\n",
      "122/122 [==============================] - 22s 178ms/step - loss: 0.8071 - accuracy: 0.7533 - val_loss: 0.7761 - val_accuracy: 0.6857\n",
      "\n",
      "Epoch 00008: val_accuracy did not improve from 0.75714\n",
      "Epoch 9/32\n",
      "122/122 [==============================] - 22s 181ms/step - loss: 0.8043 - accuracy: 0.7566 - val_loss: 0.6501 - val_accuracy: 0.6571\n",
      "\n",
      "Epoch 00009: val_accuracy did not improve from 0.75714\n",
      "Epoch 10/32\n",
      "122/122 [==============================] - 21s 175ms/step - loss: 0.7572 - accuracy: 0.7549 - val_loss: 0.5056 - val_accuracy: 0.7857\n",
      "\n",
      "Epoch 00010: val_accuracy improved from 0.75714 to 0.78571, saving model to ./ct_incep_best_model.hdf5\n",
      "Epoch 11/32\n",
      "122/122 [==============================] - 23s 186ms/step - loss: 0.8287 - accuracy: 0.7648 - val_loss: 1.0221 - val_accuracy: 0.6571\n",
      "\n",
      "Epoch 00011: val_accuracy did not improve from 0.78571\n",
      "Epoch 12/32\n",
      "122/122 [==============================] - 20s 167ms/step - loss: 0.7157 - accuracy: 0.7812 - val_loss: 0.8258 - val_accuracy: 0.6286\n",
      "\n",
      "Epoch 00012: val_accuracy did not improve from 0.78571\n",
      "Epoch 13/32\n",
      "122/122 [==============================] - 22s 177ms/step - loss: 0.6890 - accuracy: 0.7878 - val_loss: 1.1552 - val_accuracy: 0.6857\n",
      "\n",
      "Epoch 00013: val_accuracy did not improve from 0.78571\n",
      "Epoch 14/32\n",
      "122/122 [==============================] - 21s 172ms/step - loss: 0.6371 - accuracy: 0.7961 - val_loss: 0.4078 - val_accuracy: 0.8286\n",
      "\n",
      "Epoch 00014: val_accuracy improved from 0.78571 to 0.82857, saving model to ./ct_incep_best_model.hdf5\n",
      "Epoch 15/32\n",
      "122/122 [==============================] - 20s 167ms/step - loss: 0.6838 - accuracy: 0.8026 - val_loss: 1.1853 - val_accuracy: 0.7000\n",
      "\n",
      "Epoch 00015: val_accuracy did not improve from 0.82857\n",
      "Epoch 16/32\n",
      "122/122 [==============================] - 22s 181ms/step - loss: 0.6458 - accuracy: 0.8240 - val_loss: 0.4077 - val_accuracy: 0.8143\n",
      "\n",
      "Epoch 00016: val_accuracy did not improve from 0.82857\n",
      "Epoch 17/32\n",
      "122/122 [==============================] - 22s 180ms/step - loss: 0.6551 - accuracy: 0.7977 - val_loss: 0.4203 - val_accuracy: 0.8143\n",
      "\n",
      "Epoch 00017: val_accuracy did not improve from 0.82857\n",
      "Epoch 18/32\n",
      "122/122 [==============================] - 22s 180ms/step - loss: 0.6276 - accuracy: 0.8207 - val_loss: 0.6363 - val_accuracy: 0.7714\n",
      "\n",
      "Epoch 00018: val_accuracy did not improve from 0.82857\n",
      "Epoch 19/32\n",
      "122/122 [==============================] - 22s 177ms/step - loss: 0.5452 - accuracy: 0.8438 - val_loss: 0.7897 - val_accuracy: 0.7429\n",
      "\n",
      "Epoch 00019: val_accuracy did not improve from 0.82857\n",
      "Epoch 20/32\n",
      "122/122 [==============================] - 22s 183ms/step - loss: 0.5763 - accuracy: 0.8174 - val_loss: 1.8456 - val_accuracy: 0.5714\n",
      "\n",
      "Epoch 00020: val_accuracy did not improve from 0.82857\n",
      "Epoch 21/32\n",
      "122/122 [==============================] - 22s 181ms/step - loss: 0.5018 - accuracy: 0.8405 - val_loss: 0.3539 - val_accuracy: 0.8714\n",
      "\n",
      "Epoch 00021: val_accuracy improved from 0.82857 to 0.87143, saving model to ./ct_incep_best_model.hdf5\n",
      "Epoch 22/32\n",
      "122/122 [==============================] - 22s 179ms/step - loss: 0.5102 - accuracy: 0.8306 - val_loss: 0.5203 - val_accuracy: 0.7857\n",
      "\n",
      "Epoch 00022: val_accuracy did not improve from 0.87143\n",
      "Epoch 23/32\n",
      "122/122 [==============================] - 23s 185ms/step - loss: 0.5053 - accuracy: 0.8553 - val_loss: 0.3406 - val_accuracy: 0.8857\n",
      "\n",
      "Epoch 00023: val_accuracy improved from 0.87143 to 0.88571, saving model to ./ct_incep_best_model.hdf5\n",
      "Epoch 24/32\n",
      "122/122 [==============================] - 22s 179ms/step - loss: 0.4657 - accuracy: 0.8454 - val_loss: 0.6624 - val_accuracy: 0.8143\n",
      "\n",
      "Epoch 00024: val_accuracy did not improve from 0.88571\n",
      "Epoch 25/32\n",
      "122/122 [==============================] - 22s 179ms/step - loss: 0.5791 - accuracy: 0.8339 - val_loss: 0.5747 - val_accuracy: 0.8429\n",
      "\n",
      "Epoch 00025: val_accuracy did not improve from 0.88571\n",
      "Epoch 26/32\n",
      "122/122 [==============================] - 23s 187ms/step - loss: 0.5330 - accuracy: 0.8503 - val_loss: 0.8967 - val_accuracy: 0.7571\n",
      "\n",
      "Epoch 00026: val_accuracy did not improve from 0.88571\n",
      "Epoch 27/32\n",
      "122/122 [==============================] - 23s 185ms/step - loss: 0.3734 - accuracy: 0.8799 - val_loss: 0.7890 - val_accuracy: 0.7429\n",
      "\n",
      "Epoch 00027: val_accuracy did not improve from 0.88571\n",
      "Epoch 28/32\n",
      "122/122 [==============================] - 22s 180ms/step - loss: 0.6463 - accuracy: 0.8339 - val_loss: 0.4417 - val_accuracy: 0.8857\n",
      "\n",
      "Epoch 00028: val_accuracy did not improve from 0.88571\n",
      "Epoch 29/32\n",
      "122/122 [==============================] - 23s 186ms/step - loss: 0.5001 - accuracy: 0.8421 - val_loss: 0.3033 - val_accuracy: 0.8571\n",
      "\n",
      "Epoch 00029: val_accuracy did not improve from 0.88571\n",
      "Epoch 30/32\n",
      "122/122 [==============================] - 22s 178ms/step - loss: 0.4628 - accuracy: 0.8553 - val_loss: 0.9985 - val_accuracy: 0.7429\n",
      "\n",
      "Epoch 00030: val_accuracy did not improve from 0.88571\n",
      "Epoch 31/32\n",
      "122/122 [==============================] - 20s 166ms/step - loss: 0.4107 - accuracy: 0.8849 - val_loss: 1.0031 - val_accuracy: 0.7286\n",
      "\n",
      "Epoch 00031: val_accuracy did not improve from 0.88571\n",
      "Epoch 32/32\n",
      "122/122 [==============================] - 22s 183ms/step - loss: 0.4225 - accuracy: 0.8832 - val_loss: 0.3761 - val_accuracy: 0.9000\n",
      "\n",
      "Epoch 00032: val_accuracy improved from 0.88571 to 0.90000, saving model to ./ct_incep_best_model.hdf5\n"
     ]
    }
   ],
   "source": [
    "# Fitting the Model\n",
    "incep = model_incep.fit(\n",
    "    train_data, \n",
    "    steps_per_epoch = train_data.samples//train_data.batch_size, \n",
    "    epochs = 32, \n",
    "    validation_data = val_data, \n",
    "    validation_steps = val_data.samples//val_data.batch_size,\n",
    "    callbacks = call_back \n",
    "    )"
   ]
  },
  {
   "cell_type": "code",
   "execution_count": 32,
   "id": "4310ec4e",
   "metadata": {
    "execution": {
     "iopub.execute_input": "2022-01-29T07:39:04.691792Z",
     "iopub.status.busy": "2022-01-29T07:39:04.691220Z",
     "iopub.status.idle": "2022-01-29T07:39:10.112309Z",
     "shell.execute_reply": "2022-01-29T07:39:10.112706Z",
     "shell.execute_reply.started": "2022-01-29T06:35:51.802758Z"
    },
    "papermill": {
     "duration": 8.563366,
     "end_time": "2022-01-29T07:39:10.112938",
     "exception": false,
     "start_time": "2022-01-29T07:39:01.549572",
     "status": "completed"
    },
    "tags": []
   },
   "outputs": [],
   "source": [
    "# Loading the Best Fit Model \n",
    "model = load_model(\"./ct_incep_best_model.hdf5\")"
   ]
  },
  {
   "cell_type": "code",
   "execution_count": 33,
   "id": "c30fe025",
   "metadata": {
    "execution": {
     "iopub.execute_input": "2022-01-29T07:39:17.107625Z",
     "iopub.status.busy": "2022-01-29T07:39:17.106571Z",
     "iopub.status.idle": "2022-01-29T07:39:20.962515Z",
     "shell.execute_reply": "2022-01-29T07:39:20.962059Z",
     "shell.execute_reply.started": "2022-01-29T06:35:58.652312Z"
    },
    "papermill": {
     "duration": 6.947052,
     "end_time": "2022-01-29T07:39:20.962642",
     "exception": false,
     "start_time": "2022-01-29T07:39:14.015590",
     "status": "completed"
    },
    "tags": []
   },
   "outputs": [
    {
     "name": "stdout",
     "output_type": "stream",
     "text": [
      "The accuracy of the model is = 73.96825551986694 %\n"
     ]
    }
   ],
   "source": [
    "# Checking the Accuracy of the Model \n",
    "accuracy_incep = model.evaluate_generator(generator= test_data)[1] \n",
    "print(f\"The accuracy of the model is = {accuracy_incep*100} %\")"
   ]
  },
  {
   "cell_type": "code",
   "execution_count": 34,
   "id": "5adb46df",
   "metadata": {
    "execution": {
     "iopub.execute_input": "2022-01-29T07:39:27.435538Z",
     "iopub.status.busy": "2022-01-29T07:39:27.434888Z",
     "iopub.status.idle": "2022-01-29T07:39:27.437590Z",
     "shell.execute_reply": "2022-01-29T07:39:27.437999Z",
     "shell.execute_reply.started": "2022-01-29T06:36:10.829568Z"
    },
    "papermill": {
     "duration": 3.087804,
     "end_time": "2022-01-29T07:39:27.438135",
     "exception": false,
     "start_time": "2022-01-29T07:39:24.350331",
     "status": "completed"
    },
    "tags": []
   },
   "outputs": [
    {
     "data": {
      "text/plain": [
       "dict_keys(['loss', 'accuracy', 'val_loss', 'val_accuracy'])"
      ]
     },
     "execution_count": 34,
     "metadata": {},
     "output_type": "execute_result"
    }
   ],
   "source": [
    "incep.history.keys()"
   ]
  },
  {
   "cell_type": "code",
   "execution_count": 35,
   "id": "99693915",
   "metadata": {
    "execution": {
     "iopub.execute_input": "2022-01-29T07:39:33.934717Z",
     "iopub.status.busy": "2022-01-29T07:39:33.932933Z",
     "iopub.status.idle": "2022-01-29T07:39:34.340025Z",
     "shell.execute_reply": "2022-01-29T07:39:34.340467Z",
     "shell.execute_reply.started": "2022-01-29T06:36:16.439562Z"
    },
    "papermill": {
     "duration": 3.758753,
     "end_time": "2022-01-29T07:39:34.340618",
     "exception": false,
     "start_time": "2022-01-29T07:39:30.581865",
     "status": "completed"
    },
    "tags": []
   },
   "outputs": [
    {
     "data": {
      "image/png": "[encoded data removed]",
      "text/plain": [
       "<Figure size 1080x360 with 2 Axes>"
      ]
     },
     "metadata": {
      "needs_background": "light"
     },
     "output_type": "display_data"
    }
   ],
   "source": [
    "# Plot model performance\n",
    "acc = incep.history['accuracy']\n",
    "val_acc = incep.history['val_accuracy']\n",
    "loss = incep.history['loss']\n",
    "val_loss = incep.history['val_loss']\n",
    "epochs_range = range(1, len(incep.epoch) + 1)\n",
    "\n",
    "plt.figure(figsize=(15,5))\n",
    "\n",
    "plt.subplot(1, 2, 1)\n",
    "plt.plot(epochs_range, acc, label='Train Set')\n",
    "plt.plot(epochs_range, val_acc, label='Val Set')\n",
    "plt.legend(loc=\"best\")\n",
    "plt.xlabel('Epochs')\n",
    "plt.ylabel('Accuracy')\n",
    "plt.title('Model Accuracy')\n",
    "\n",
    "plt.subplot(1, 2, 2)\n",
    "plt.plot(epochs_range, loss, label='Train Set')\n",
    "plt.plot(epochs_range, val_loss, label='Val Set')\n",
    "plt.legend(loc=\"best\")\n",
    "plt.xlabel('Epochs')\n",
    "plt.ylabel('Loss')\n",
    "plt.title('Model Loss')\n",
    "\n",
    "plt.tight_layout()\n",
    "plt.show()"
   ]
  },
  {
   "cell_type": "markdown",
   "id": "8281d41c",
   "metadata": {
    "papermill": {
     "duration": 3.12356,
     "end_time": "2022-01-29T07:39:40.613906",
     "exception": false,
     "start_time": "2022-01-29T07:39:37.490346",
     "status": "completed"
    },
    "tags": []
   },
   "source": [
    "## RestNet50 Model"
   ]
  },
  {
   "cell_type": "code",
   "execution_count": 36,
   "id": "6e972225",
   "metadata": {
    "execution": {
     "iopub.execute_input": "2022-01-29T07:39:47.693277Z",
     "iopub.status.busy": "2022-01-29T07:39:47.692422Z",
     "iopub.status.idle": "2022-01-29T07:39:49.453209Z",
     "shell.execute_reply": "2022-01-29T07:39:49.453618Z",
     "shell.execute_reply.started": "2022-01-29T06:36:23.245027Z"
    },
    "papermill": {
     "duration": 5.653723,
     "end_time": "2022-01-29T07:39:49.453806",
     "exception": false,
     "start_time": "2022-01-29T07:39:43.800083",
     "status": "completed"
    },
    "tags": []
   },
   "outputs": [
    {
     "name": "stdout",
     "output_type": "stream",
     "text": [
      "Downloading data from https://storage.googleapis.com/tensorflow/keras-applications/resnet/resnet50_weights_tf_dim_ordering_tf_kernels_notop.h5\n",
      "94773248/94765736 [==============================] - 0s 0us/step\n",
      "94781440/94765736 [==============================] - 0s 0us/step\n"
     ]
    }
   ],
   "source": [
    "from tensorflow.keras.applications import ResNet50\n",
    "\n",
    "base_model = ResNet50(input_shape=(350, 350,3),\n",
    "                      include_top=False, weights=\"imagenet\", \n",
    "                      pooling='max')"
   ]
  },
  {
   "cell_type": "code",
   "execution_count": 37,
   "id": "c2bdeca7",
   "metadata": {
    "execution": {
     "iopub.execute_input": "2022-01-29T07:39:56.049380Z",
     "iopub.status.busy": "2022-01-29T07:39:56.048555Z",
     "iopub.status.idle": "2022-01-29T07:39:56.051205Z",
     "shell.execute_reply": "2022-01-29T07:39:56.050679Z",
     "shell.execute_reply.started": "2022-01-29T06:36:35.139816Z"
    },
    "papermill": {
     "duration": 3.422576,
     "end_time": "2022-01-29T07:39:56.051328",
     "exception": false,
     "start_time": "2022-01-29T07:39:52.628752",
     "status": "completed"
    },
    "tags": []
   },
   "outputs": [],
   "source": [
    "for layer in base_model.layers:\n",
    "    layer.trainable = False"
   ]
  },
  {
   "cell_type": "code",
   "execution_count": 38,
   "id": "7dc57d48",
   "metadata": {
    "execution": {
     "iopub.execute_input": "2022-01-29T07:40:02.336212Z",
     "iopub.status.busy": "2022-01-29T07:40:02.335458Z",
     "iopub.status.idle": "2022-01-29T07:40:02.700224Z",
     "shell.execute_reply": "2022-01-29T07:40:02.699597Z",
     "shell.execute_reply.started": "2022-01-29T06:36:37.715118Z"
    },
    "papermill": {
     "duration": 3.489434,
     "end_time": "2022-01-29T07:40:02.700364",
     "exception": false,
     "start_time": "2022-01-29T07:39:59.210930",
     "status": "completed"
    },
    "tags": []
   },
   "outputs": [],
   "source": [
    "model_resnet = Sequential()\n",
    "model_resnet.add(base_model)\n",
    "model_resnet.add(Dense(4, activation='sigmoid'))"
   ]
  },
  {
   "cell_type": "code",
   "execution_count": 39,
   "id": "cca6674a",
   "metadata": {
    "execution": {
     "iopub.execute_input": "2022-01-29T07:40:09.195912Z",
     "iopub.status.busy": "2022-01-29T07:40:09.195003Z",
     "iopub.status.idle": "2022-01-29T07:40:09.207761Z",
     "shell.execute_reply": "2022-01-29T07:40:09.206836Z",
     "shell.execute_reply.started": "2022-01-29T06:36:43.052969Z"
    },
    "papermill": {
     "duration": 3.369115,
     "end_time": "2022-01-29T07:40:09.207973",
     "exception": false,
     "start_time": "2022-01-29T07:40:05.838858",
     "status": "completed"
    },
    "tags": []
   },
   "outputs": [],
   "source": [
    "model_resnet.compile(optimizer = tf.keras.optimizers.SGD(learning_rate=0.0001), \n",
    "                     loss = 'categorical_crossentropy', \n",
    "                     metrics = ['accuracy'])"
   ]
  },
  {
   "cell_type": "code",
   "execution_count": 40,
   "id": "e40a3652",
   "metadata": {
    "execution": {
     "iopub.execute_input": "2022-01-29T07:40:15.466979Z",
     "iopub.status.busy": "2022-01-29T07:40:15.466155Z",
     "iopub.status.idle": "2022-01-29T07:40:15.468795Z",
     "shell.execute_reply": "2022-01-29T07:40:15.468279Z",
     "shell.execute_reply.started": "2022-01-29T06:36:45.359542Z"
    },
    "papermill": {
     "duration": 3.099051,
     "end_time": "2022-01-29T07:40:15.468920",
     "exception": false,
     "start_time": "2022-01-29T07:40:12.369869",
     "status": "completed"
    },
    "tags": []
   },
   "outputs": [],
   "source": [
    "# Adding Model check point Callback\n",
    "\n",
    "mc = ModelCheckpoint(\n",
    "    filepath=\"./ct_resnet_best_model.hdf5\",\n",
    "    monitor= 'val_accuracy', \n",
    "    verbose= 1,\n",
    "    save_best_only= True, \n",
    "    mode = 'auto'\n",
    "    );\n",
    "\n",
    "call_back = [mc];"
   ]
  },
  {
   "cell_type": "code",
   "execution_count": 41,
   "id": "4efc1023",
   "metadata": {
    "execution": {
     "iopub.execute_input": "2022-01-29T07:40:22.470618Z",
     "iopub.status.busy": "2022-01-29T07:40:22.469987Z",
     "iopub.status.idle": "2022-01-29T07:56:27.166564Z",
     "shell.execute_reply": "2022-01-29T07:56:27.167056Z",
     "shell.execute_reply.started": "2022-01-29T06:36:51.993105Z"
    },
    "papermill": {
     "duration": 967.800017,
     "end_time": "2022-01-29T07:56:27.167253",
     "exception": false,
     "start_time": "2022-01-29T07:40:19.367236",
     "status": "completed"
    },
    "tags": []
   },
   "outputs": [
    {
     "name": "stdout",
     "output_type": "stream",
     "text": [
      "Epoch 1/32\n",
      "122/122 [==============================] - 20s 164ms/step - loss: 0.4358 - accuracy: 0.8882 - val_loss: 0.2339 - val_accuracy: 0.9286\n",
      "\n",
      "Epoch 00001: val_accuracy improved from -inf to 0.92857, saving model to ./ct_resnet_best_model.hdf5\n",
      "Epoch 2/32\n",
      "122/122 [==============================] - 23s 191ms/step - loss: 0.3997 - accuracy: 0.8882 - val_loss: 0.6276 - val_accuracy: 0.8000\n",
      "\n",
      "Epoch 00002: val_accuracy did not improve from 0.92857\n",
      "Epoch 3/32\n",
      "122/122 [==============================] - 22s 180ms/step - loss: 0.3605 - accuracy: 0.8931 - val_loss: 0.8815 - val_accuracy: 0.7286\n",
      "\n",
      "Epoch 00003: val_accuracy did not improve from 0.92857\n",
      "Epoch 4/32\n",
      "122/122 [==============================] - 23s 186ms/step - loss: 0.3738 - accuracy: 0.8832 - val_loss: 0.8175 - val_accuracy: 0.7857\n",
      "\n",
      "Epoch 00004: val_accuracy did not improve from 0.92857\n",
      "Epoch 5/32\n",
      "122/122 [==============================] - 23s 185ms/step - loss: 0.3842 - accuracy: 0.8914 - val_loss: 0.6140 - val_accuracy: 0.8714\n",
      "\n",
      "Epoch 00005: val_accuracy did not improve from 0.92857\n",
      "Epoch 6/32\n",
      "122/122 [==============================] - 23s 187ms/step - loss: 0.3793 - accuracy: 0.8980 - val_loss: 0.8120 - val_accuracy: 0.7571\n",
      "\n",
      "Epoch 00006: val_accuracy did not improve from 0.92857\n",
      "Epoch 7/32\n",
      "122/122 [==============================] - 23s 187ms/step - loss: 0.3743 - accuracy: 0.8947 - val_loss: 0.5285 - val_accuracy: 0.8571\n",
      "\n",
      "Epoch 00007: val_accuracy did not improve from 0.92857\n",
      "Epoch 8/32\n",
      "122/122 [==============================] - 23s 184ms/step - loss: 0.3721 - accuracy: 0.9030 - val_loss: 0.5568 - val_accuracy: 0.8143\n",
      "\n",
      "Epoch 00008: val_accuracy did not improve from 0.92857\n",
      "Epoch 9/32\n",
      "122/122 [==============================] - 21s 173ms/step - loss: 0.3180 - accuracy: 0.9095 - val_loss: 0.6230 - val_accuracy: 0.8143\n",
      "\n",
      "Epoch 00009: val_accuracy did not improve from 0.92857\n",
      "Epoch 10/32\n",
      "122/122 [==============================] - 22s 182ms/step - loss: 0.3701 - accuracy: 0.8849 - val_loss: 1.0236 - val_accuracy: 0.7571\n",
      "\n",
      "Epoch 00010: val_accuracy did not improve from 0.92857\n",
      "Epoch 11/32\n",
      "122/122 [==============================] - 22s 184ms/step - loss: 0.3784 - accuracy: 0.8914 - val_loss: 0.5945 - val_accuracy: 0.8429\n",
      "\n",
      "Epoch 00011: val_accuracy did not improve from 0.92857\n",
      "Epoch 12/32\n",
      "122/122 [==============================] - 21s 168ms/step - loss: 0.3758 - accuracy: 0.9030 - val_loss: 1.1403 - val_accuracy: 0.7429\n",
      "\n",
      "Epoch 00012: val_accuracy did not improve from 0.92857\n",
      "Epoch 13/32\n",
      "122/122 [==============================] - 22s 181ms/step - loss: 0.2825 - accuracy: 0.9095 - val_loss: 0.5119 - val_accuracy: 0.8714\n",
      "\n",
      "Epoch 00013: val_accuracy did not improve from 0.92857\n",
      "Epoch 14/32\n",
      "122/122 [==============================] - 23s 190ms/step - loss: 0.4112 - accuracy: 0.9046 - val_loss: 0.4561 - val_accuracy: 0.9143\n",
      "\n",
      "Epoch 00014: val_accuracy did not improve from 0.92857\n",
      "Epoch 15/32\n",
      "122/122 [==============================] - 23s 187ms/step - loss: 0.3500 - accuracy: 0.9128 - val_loss: 0.5266 - val_accuracy: 0.8571\n",
      "\n",
      "Epoch 00015: val_accuracy did not improve from 0.92857\n",
      "Epoch 16/32\n",
      "122/122 [==============================] - 23s 186ms/step - loss: 0.2907 - accuracy: 0.9194 - val_loss: 0.4118 - val_accuracy: 0.9143\n",
      "\n",
      "Epoch 00016: val_accuracy did not improve from 0.92857\n",
      "Epoch 17/32\n",
      "122/122 [==============================] - 23s 188ms/step - loss: 0.3494 - accuracy: 0.9079 - val_loss: 0.5877 - val_accuracy: 0.8714\n",
      "\n",
      "Epoch 00017: val_accuracy did not improve from 0.92857\n",
      "Epoch 18/32\n",
      "122/122 [==============================] - 23s 187ms/step - loss: 0.3570 - accuracy: 0.9030 - val_loss: 0.3182 - val_accuracy: 0.9429\n",
      "\n",
      "Epoch 00018: val_accuracy improved from 0.92857 to 0.94286, saving model to ./ct_resnet_best_model.hdf5\n",
      "Epoch 19/32\n",
      "122/122 [==============================] - 22s 184ms/step - loss: 0.3058 - accuracy: 0.8997 - val_loss: 0.7980 - val_accuracy: 0.8429\n",
      "\n",
      "Epoch 00019: val_accuracy did not improve from 0.94286\n",
      "Epoch 20/32\n",
      "122/122 [==============================] - 23s 189ms/step - loss: 0.2818 - accuracy: 0.9243 - val_loss: 0.5416 - val_accuracy: 0.8714\n",
      "\n",
      "Epoch 00020: val_accuracy did not improve from 0.94286\n",
      "Epoch 21/32\n",
      "122/122 [==============================] - 23s 188ms/step - loss: 0.2964 - accuracy: 0.9079 - val_loss: 0.8617 - val_accuracy: 0.8000\n",
      "\n",
      "Epoch 00021: val_accuracy did not improve from 0.94286\n",
      "Epoch 22/32\n",
      "122/122 [==============================] - 23s 191ms/step - loss: 0.3747 - accuracy: 0.8947 - val_loss: 0.5532 - val_accuracy: 0.8857\n",
      "\n",
      "Epoch 00022: val_accuracy did not improve from 0.94286\n",
      "Epoch 23/32\n",
      "122/122 [==============================] - 20s 161ms/step - loss: 0.3435 - accuracy: 0.9194 - val_loss: 0.2775 - val_accuracy: 0.9143\n",
      "\n",
      "Epoch 00023: val_accuracy did not improve from 0.94286\n",
      "Epoch 24/32\n",
      "122/122 [==============================] - 21s 169ms/step - loss: 0.3937 - accuracy: 0.9095 - val_loss: 0.7252 - val_accuracy: 0.8714\n",
      "\n",
      "Epoch 00024: val_accuracy did not improve from 0.94286\n",
      "Epoch 25/32\n",
      "122/122 [==============================] - 23s 188ms/step - loss: 0.3177 - accuracy: 0.9227 - val_loss: 0.2907 - val_accuracy: 0.9000\n",
      "\n",
      "Epoch 00025: val_accuracy did not improve from 0.94286\n",
      "Epoch 26/32\n",
      "122/122 [==============================] - 21s 170ms/step - loss: 0.3553 - accuracy: 0.9178 - val_loss: 0.1260 - val_accuracy: 0.9714\n",
      "\n",
      "Epoch 00026: val_accuracy improved from 0.94286 to 0.97143, saving model to ./ct_resnet_best_model.hdf5\n",
      "Epoch 27/32\n",
      "122/122 [==============================] - 20s 163ms/step - loss: 0.2830 - accuracy: 0.9326 - val_loss: 0.6237 - val_accuracy: 0.8857\n",
      "\n",
      "Epoch 00027: val_accuracy did not improve from 0.97143\n",
      "Epoch 28/32\n",
      "122/122 [==============================] - 23s 188ms/step - loss: 0.2936 - accuracy: 0.9260 - val_loss: 0.7276 - val_accuracy: 0.8571\n",
      "\n",
      "Epoch 00028: val_accuracy did not improve from 0.97143\n",
      "Epoch 29/32\n",
      "122/122 [==============================] - 20s 161ms/step - loss: 0.2995 - accuracy: 0.9293 - val_loss: 0.8700 - val_accuracy: 0.8000\n",
      "\n",
      "Epoch 00029: val_accuracy did not improve from 0.97143\n",
      "Epoch 30/32\n",
      "122/122 [==============================] - 23s 189ms/step - loss: 0.3713 - accuracy: 0.9128 - val_loss: 0.3179 - val_accuracy: 0.9000\n",
      "\n",
      "Epoch 00030: val_accuracy did not improve from 0.97143\n",
      "Epoch 31/32\n",
      "122/122 [==============================] - 20s 165ms/step - loss: 0.4189 - accuracy: 0.9128 - val_loss: 0.8202 - val_accuracy: 0.8429\n",
      "\n",
      "Epoch 00031: val_accuracy did not improve from 0.97143\n",
      "Epoch 32/32\n",
      "122/122 [==============================] - 20s 161ms/step - loss: 0.3391 - accuracy: 0.9293 - val_loss: 0.3470 - val_accuracy: 0.9429\n",
      "\n",
      "Epoch 00032: val_accuracy did not improve from 0.97143\n"
     ]
    }
   ],
   "source": [
    "# Fitting the Model\n",
    "resnet = model_incep.fit(\n",
    "    train_data, \n",
    "    steps_per_epoch = train_data.samples//train_data.batch_size, \n",
    "    epochs = 32, \n",
    "    validation_data = val_data, \n",
    "    validation_steps = val_data.samples//val_data.batch_size,\n",
    "    callbacks = call_back \n",
    "    )"
   ]
  },
  {
   "cell_type": "code",
   "execution_count": 42,
   "id": "0558349b",
   "metadata": {
    "execution": {
     "iopub.execute_input": "2022-01-29T07:56:35.945813Z",
     "iopub.status.busy": "2022-01-29T07:56:35.930771Z",
     "iopub.status.idle": "2022-01-29T07:56:41.490294Z",
     "shell.execute_reply": "2022-01-29T07:56:41.489798Z",
     "shell.execute_reply.started": "2022-01-29T06:52:58.001568Z"
    },
    "papermill": {
     "duration": 9.919152,
     "end_time": "2022-01-29T07:56:41.490425",
     "exception": false,
     "start_time": "2022-01-29T07:56:31.571273",
     "status": "completed"
    },
    "tags": []
   },
   "outputs": [],
   "source": [
    "# Loading the Best Fit Model \n",
    "model = load_model(\"./ct_resnet_best_model.hdf5\")"
   ]
  },
  {
   "cell_type": "code",
   "execution_count": 43,
   "id": "8a24031b",
   "metadata": {
    "execution": {
     "iopub.execute_input": "2022-01-29T07:56:50.065234Z",
     "iopub.status.busy": "2022-01-29T07:56:50.064658Z",
     "iopub.status.idle": "2022-01-29T07:56:53.932529Z",
     "shell.execute_reply": "2022-01-29T07:56:53.933023Z",
     "shell.execute_reply.started": "2022-01-29T06:53:04.312069Z"
    },
    "papermill": {
     "duration": 8.288665,
     "end_time": "2022-01-29T07:56:53.933216",
     "exception": false,
     "start_time": "2022-01-29T07:56:45.644551",
     "status": "completed"
    },
    "tags": []
   },
   "outputs": [
    {
     "name": "stdout",
     "output_type": "stream",
     "text": [
      "The accuracy of the model is = 84.44444537162781 %\n"
     ]
    }
   ],
   "source": [
    "# Checking the Accuracy of the Model \n",
    "accuracy_resnet = model.evaluate_generator(generator= test_data)[1] \n",
    "print(f\"The accuracy of the model is = {accuracy_resnet*100} %\")"
   ]
  },
  {
   "cell_type": "code",
   "execution_count": 44,
   "id": "bf7beffe",
   "metadata": {
    "execution": {
     "iopub.execute_input": "2022-01-29T07:57:02.553089Z",
     "iopub.status.busy": "2022-01-29T07:57:02.552385Z",
     "iopub.status.idle": "2022-01-29T07:57:02.555172Z",
     "shell.execute_reply": "2022-01-29T07:57:02.555570Z",
     "shell.execute_reply.started": "2022-01-29T06:53:08.070099Z"
    },
    "papermill": {
     "duration": 4.481346,
     "end_time": "2022-01-29T07:57:02.555706",
     "exception": false,
     "start_time": "2022-01-29T07:56:58.074360",
     "status": "completed"
    },
    "tags": []
   },
   "outputs": [
    {
     "data": {
      "text/plain": [
       "dict_keys(['loss', 'accuracy', 'val_loss', 'val_accuracy'])"
      ]
     },
     "execution_count": 44,
     "metadata": {},
     "output_type": "execute_result"
    }
   ],
   "source": [
    "resnet.history.keys()"
   ]
  },
  {
   "cell_type": "code",
   "execution_count": 45,
   "id": "a3fd2ad5",
   "metadata": {
    "execution": {
     "iopub.execute_input": "2022-01-29T07:57:11.623056Z",
     "iopub.status.busy": "2022-01-29T07:57:11.616549Z",
     "iopub.status.idle": "2022-01-29T07:57:11.998293Z",
     "shell.execute_reply": "2022-01-29T07:57:11.998660Z",
     "shell.execute_reply.started": "2022-01-29T06:53:12.495165Z"
    },
    "papermill": {
     "duration": 4.858415,
     "end_time": "2022-01-29T07:57:11.998840",
     "exception": false,
     "start_time": "2022-01-29T07:57:07.140425",
     "status": "completed"
    },
    "tags": []
   },
   "outputs": [
    {
     "data": {
      "image/png": "[encoded data removed]",
      "text/plain": [
       "<Figure size 1080x360 with 2 Axes>"
      ]
     },
     "metadata": {
      "needs_background": "light"
     },
     "output_type": "display_data"
    }
   ],
   "source": [
    "# Plot model performance\n",
    "acc = resnet.history['accuracy']\n",
    "val_acc = resnet.history['val_accuracy']\n",
    "loss = resnet.history['loss']\n",
    "val_loss = resnet.history['val_loss']\n",
    "epochs_range = range(1, len(resnet.epoch) + 1)\n",
    "\n",
    "plt.figure(figsize=(15,5))\n",
    "\n",
    "plt.subplot(1, 2, 1)\n",
    "plt.plot(epochs_range, acc, label='Train Set')\n",
    "plt.plot(epochs_range, val_acc, label='Val Set')\n",
    "plt.legend(loc=\"best\")\n",
    "plt.xlabel('Epochs')\n",
    "plt.ylabel('Accuracy')\n",
    "plt.title('Model Accuracy')\n",
    "\n",
    "plt.subplot(1, 2, 2)\n",
    "plt.plot(epochs_range, loss, label='Train Set')\n",
    "plt.plot(epochs_range, val_loss, label='Val Set')\n",
    "plt.legend(loc=\"best\")\n",
    "plt.xlabel('Epochs')\n",
    "plt.ylabel('Loss')\n",
    "plt.title('Model Loss')\n",
    "\n",
    "plt.tight_layout()\n",
    "plt.show()"
   ]
  },
  {
   "cell_type": "markdown",
   "id": "5afa2f5d",
   "metadata": {
    "papermill": {
     "duration": 4.242049,
     "end_time": "2022-01-29T07:57:20.384540",
     "exception": false,
     "start_time": "2022-01-29T07:57:16.142491",
     "status": "completed"
    },
    "tags": []
   },
   "source": [
    "## Comparison"
   ]
  },
  {
   "cell_type": "code",
   "execution_count": 46,
   "id": "9f165ed1",
   "metadata": {
    "execution": {
     "iopub.execute_input": "2022-01-29T07:57:28.938097Z",
     "iopub.status.busy": "2022-01-29T07:57:28.937242Z",
     "iopub.status.idle": "2022-01-29T07:57:29.096577Z",
     "shell.execute_reply": "2022-01-29T07:57:29.097004Z",
     "shell.execute_reply.started": "2022-01-29T06:53:18.517435Z"
    },
    "papermill": {
     "duration": 4.372907,
     "end_time": "2022-01-29T07:57:29.097164",
     "exception": false,
     "start_time": "2022-01-29T07:57:24.724257",
     "status": "completed"
    },
    "tags": []
   },
   "outputs": [
    {
     "data": {
      "image/png": "[encoded data removed]",
      "text/plain": [
       "<Figure size 720x360 with 1 Axes>"
      ]
     },
     "metadata": {
      "needs_background": "light"
     },
     "output_type": "display_data"
    }
   ],
   "source": [
    "algos = ['CNN', 'VGG16', 'InceptionV3', 'Resnet50']\n",
    "accuracy = [accuracy_cnn, accuracy_vgg, accuracy_incep, accuracy_resnet]\n",
    "accuracy = np.floor([i * 100 for i in accuracy])\n",
    "  \n",
    "fig = plt.figure(figsize = (10, 5))\n",
    " \n",
    "# creating the bar plot\n",
    "plt.bar(algos, accuracy, color ='red', width = 0.3)\n",
    " \n",
    "plt.xlabel(\"Algorithms Applied\")\n",
    "plt.ylabel(\"Accuracy\")\n",
    "plt.show()"
   ]
  },
  {
   "cell_type": "markdown",
   "id": "80dd9f32",
   "metadata": {
    "papermill": {
     "duration": 4.662776,
     "end_time": "2022-01-29T07:57:38.256807",
     "exception": false,
     "start_time": "2022-01-29T07:57:33.594031",
     "status": "completed"
    },
    "tags": []
   },
   "source": [
    "### Predictions"
   ]
  },
  {
   "cell_type": "code",
   "execution_count": 47,
   "id": "03bf4e30",
   "metadata": {
    "execution": {
     "iopub.execute_input": "2022-01-29T07:57:46.834727Z",
     "iopub.status.busy": "2022-01-29T07:57:46.833822Z",
     "iopub.status.idle": "2022-01-29T07:57:46.835643Z",
     "shell.execute_reply": "2022-01-29T07:57:46.836067Z",
     "shell.execute_reply.started": "2022-01-29T06:53:24.247624Z"
    },
    "papermill": {
     "duration": 4.332077,
     "end_time": "2022-01-29T07:57:46.836206",
     "exception": false,
     "start_time": "2022-01-29T07:57:42.504129",
     "status": "completed"
    },
    "tags": []
   },
   "outputs": [],
   "source": [
    "def chestScanPrediction(path, _model):\n",
    "    classes_dir = [\"Adenocarcinoma\",\"Large cell carcinoma\",\"Normal\",\"Squamous cell carcinoma\"]\n",
    "    # Loading Image\n",
    "    img = image.load_img(path, target_size=(350,350))\n",
    "    # Normalizing Image\n",
    "    norm_img = image.img_to_array(img)/255\n",
    "    # Converting Image to Numpy Array\n",
    "    input_arr_img = np.array([norm_img])\n",
    "    # Getting Predictions\n",
    "    pred = np.argmax(_model.predict(input_arr_img))\n",
    "    # Printing Model Prediction\n",
    "    print(classes_dir[pred])"
   ]
  },
  {
   "cell_type": "code",
   "execution_count": 48,
   "id": "9da6ebe5",
   "metadata": {
    "execution": {
     "iopub.execute_input": "2022-01-29T07:57:55.353135Z",
     "iopub.status.busy": "2022-01-29T07:57:55.352317Z",
     "iopub.status.idle": "2022-01-29T07:57:56.771561Z",
     "shell.execute_reply": "2022-01-29T07:57:56.772027Z",
     "shell.execute_reply.started": "2022-01-29T06:53:26.678094Z"
    },
    "papermill": {
     "duration": 5.813189,
     "end_time": "2022-01-29T07:57:56.772188",
     "exception": false,
     "start_time": "2022-01-29T07:57:50.958999",
     "status": "completed"
    },
    "tags": []
   },
   "outputs": [
    {
     "name": "stdout",
     "output_type": "stream",
     "text": [
      "Large cell carcinoma\n"
     ]
    }
   ],
   "source": [
    "path = \"../input/chest-ctscan-images/Data/test/large.cell.carcinoma/000110.png\"\n",
    "chestScanPrediction(path,model_incep)"
   ]
  },
  {
   "cell_type": "code",
   "execution_count": null,
   "id": "395bf365",
   "metadata": {
    "papermill": {
     "duration": 4.488953,
     "end_time": "2022-01-29T07:58:05.490807",
     "exception": false,
     "start_time": "2022-01-29T07:58:01.001854",
     "status": "completed"
    },
    "tags": []
   },
   "outputs": [],
   "source": []
  }
 ],
 "metadata": {
  "kernelspec": {
   "display_name": "Python 3",
   "language": "python",
   "name": "python3"
  },
  "language_info": {
   "codemirror_mode": {
    "name": "ipython",
    "version": 3
   },
   "file_extension": ".py",
   "mimetype": "text/x-python",
   "name": "python",
   "nbconvert_exporter": "python",
   "pygments_lexer": "ipython3",
   "version": "3.8.8"
  },
  "papermill": {
   "default_parameters": {},
   "duration": 3670.356907,
   "end_time": "2022-01-29T07:58:12.889411",
   "environment_variables": {},
   "exception": null,
   "input_path": "__notebook__.ipynb",
   "output_path": "__notebook__.ipynb",
   "parameters": {},
   "start_time": "2022-01-29T06:57:02.532504",
   "version": "2.3.3"
  }
 },
 "nbformat": 4,
 "nbformat_minor": 5
}
